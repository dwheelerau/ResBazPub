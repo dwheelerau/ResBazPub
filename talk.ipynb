{
 "cells": [
  {
   "cell_type": "code",
   "execution_count": 1,
   "metadata": {
    "collapsed": false,
    "deletable": true,
    "editable": true,
    "slideshow": {
     "slide_type": "-"
    }
   },
   "outputs": [],
   "source": [
    "#Mining Twitter"
   ]
  },
  {
   "cell_type": "code",
   "execution_count": 2,
   "metadata": {
    "collapsed": false,
    "deletable": true,
    "editable": true,
    "slideshow": {
     "slide_type": "-"
    }
   },
   "outputs": [],
   "source": [
    "#pip install twitter # library for using the twitter API"
   ]
  },
  {
   "cell_type": "code",
   "execution_count": 3,
   "metadata": {
    "collapsed": false,
    "deletable": true,
    "editable": true,
    "slideshow": {
     "slide_type": "-"
    }
   },
   "outputs": [],
   "source": []
  },
  {
   "cell_type": "code",
   "execution_count": 5,
   "metadata": {
    "collapsed": false,
    "deletable": true,
    "editable": true,
    "slideshow": {
     "slide_type": "-"
    }
   },
   "outputs": [
    {
     "name": "stdout",
     "output_type": "stream",
     "text": [
      "Help on class Twitter in module twitter.api:\n",
      "\n",
      "class Twitter(TwitterCall)\n",
      " |  The minimalist yet fully featured Twitter API class.\n",
      " |  \n",
      " |  Get RESTful data by accessing members of this class. The result\n",
      " |  is decoded python objects (lists and dicts).\n",
      " |  \n",
      " |  The Twitter API is documented at:\n",
      " |  \n",
      " |    http://dev.twitter.com/doc\n",
      " |  \n",
      " |  \n",
      " |  Examples::\n",
      " |  \n",
      " |      from twitter import *\n",
      " |  \n",
      " |      t = Twitter(\n",
      " |          auth=OAuth(token, token_key, con_secret, con_secret_key))\n",
      " |  \n",
      " |      # Get your \"home\" timeline\n",
      " |      t.statuses.home_timeline()\n",
      " |  \n",
      " |      # Get a particular friend's timeline\n",
      " |      t.statuses.user_timeline(screen_name=\"billybob\")\n",
      " |  \n",
      " |      # to pass in GET/POST parameters, such as `count`\n",
      " |      t.statuses.home_timeline(count=5)\n",
      " |  \n",
      " |      # to pass in the GET/POST parameter `id` you need to use `_id`\n",
      " |      t.statuses.oembed(_id=1234567890)\n",
      " |  \n",
      " |      # Update your status\n",
      " |      t.statuses.update(\n",
      " |          status=\"Using @sixohsix's sweet Python Twitter Tools.\")\n",
      " |  \n",
      " |      # Send a direct message\n",
      " |      t.direct_messages.new(\n",
      " |          user=\"billybob\",\n",
      " |          text=\"I think yer swell!\")\n",
      " |  \n",
      " |      # Get the members of tamtar's list \"Things That Are Rad\"\n",
      " |      t.lists.members(owner_screen_name=\"tamtar\", slug=\"things-that-are-rad\")\n",
      " |  \n",
      " |      # An *optional* `_timeout` parameter can also be used for API\n",
      " |      # calls which take much more time than normal or twitter stops\n",
      " |      # responding for some reason:\n",
      " |      t.users.lookup(\n",
      " |          screen_name=','.join(A_LIST_OF_100_SCREEN_NAMES),             _timeout=1)\n",
      " |  \n",
      " |      # Overriding Method: GET/POST\n",
      " |      # you should not need to use this method as this library properly\n",
      " |      # detects whether GET or POST should be used, Nevertheless\n",
      " |      # to force a particular method, use `_method`\n",
      " |      t.statuses.oembed(_id=1234567890, _method='GET')\n",
      " |  \n",
      " |      # Send images along with your tweets:\n",
      " |      # - first just read images from the web or from files the regular way:\n",
      " |      with open(\"example.png\", \"rb\") as imagefile:\n",
      " |          imagedata = imagefile.read()\n",
      " |      # - then upload medias one by one on Twitter's dedicated server\n",
      " |      #   and collect each one's id:\n",
      " |      t_up = Twitter(domain='upload.twitter.com',\n",
      " |          auth=OAuth(token, token_key, con_secret, con_secret_key))\n",
      " |      id_img1 = t_up.media.upload(media=imagedata)[\"media_id_string\"]\n",
      " |      id_img2 = t_up.media.upload(media=imagedata)[\"media_id_string\"]\n",
      " |  \n",
      " |      # - finally send your tweet with the list of media ids:\n",
      " |      t.statuses.update(status=\"PTT ★\", media_ids=\",\".join([id_img1, id_img2]))\n",
      " |  \n",
      " |      # Or send a tweet with an image (or set a logo/banner similarily)\n",
      " |      # using the old deprecated method that will probably disappear some day\n",
      " |      params = {\"media[]\": imagedata, \"status\": \"PTT ★\"}\n",
      " |      # Or for an image encoded as base64:\n",
      " |      params = {\"media[]\": base64_image, \"status\": \"PTT ★\", \"_base64\": True}\n",
      " |      t.statuses.update_with_media(**params)\n",
      " |  \n",
      " |  \n",
      " |  \n",
      " |  Searching Twitter::\n",
      " |  \n",
      " |      # Search for the latest tweets about #pycon\n",
      " |      t.search.tweets(q=\"#pycon\")\n",
      " |  \n",
      " |  \n",
      " |  Using the data returned\n",
      " |  -----------------------\n",
      " |  \n",
      " |  Twitter API calls return decoded JSON. This is converted into\n",
      " |  a bunch of Python lists, dicts, ints, and strings. For example::\n",
      " |  \n",
      " |      x = twitter.statuses.home_timeline()\n",
      " |  \n",
      " |      # The first 'tweet' in the timeline\n",
      " |      x[0]\n",
      " |  \n",
      " |      # The screen name of the user who wrote the first 'tweet'\n",
      " |      x[0]['user']['screen_name']\n",
      " |  \n",
      " |  \n",
      " |  Getting raw XML data\n",
      " |  --------------------\n",
      " |  \n",
      " |  If you prefer to get your Twitter data in XML format, pass\n",
      " |  format=\"xml\" to the Twitter object when you instantiate it::\n",
      " |  \n",
      " |      twitter = Twitter(format=\"xml\")\n",
      " |  \n",
      " |  The output will not be parsed in any way. It will be a raw string\n",
      " |  of XML.\n",
      " |  \n",
      " |  Method resolution order:\n",
      " |      Twitter\n",
      " |      TwitterCall\n",
      " |      __builtin__.object\n",
      " |  \n",
      " |  Methods defined here:\n",
      " |  \n",
      " |  __init__(self, format=u'json', domain=u'api.twitter.com', secure=True, auth=None, api_version=<class 'twitter.api._DEFAULT'>, retry=False)\n",
      " |      Create a new twitter API connector.\n",
      " |      \n",
      " |      Pass an `auth` parameter to use the credentials of a specific\n",
      " |      user. Generally you'll want to pass an `OAuth`\n",
      " |      instance::\n",
      " |      \n",
      " |          twitter = Twitter(auth=OAuth(\n",
      " |                  token, token_secret, consumer_key, consumer_secret))\n",
      " |      \n",
      " |      \n",
      " |      `domain` lets you change the domain you are connecting. By\n",
      " |      default it's `api.twitter.com`.\n",
      " |      \n",
      " |      If `secure` is False you will connect with HTTP instead of\n",
      " |      HTTPS.\n",
      " |      \n",
      " |      `api_version` is used to set the base uri. By default it's\n",
      " |      '1.1'.\n",
      " |      \n",
      " |      If `retry` is True, API rate limits will automatically be\n",
      " |      handled by waiting until the next reset, as indicated by\n",
      " |      the X-Rate-Limit-Reset HTTP header. If retry is an integer,\n",
      " |      it defines the number of retries attempted.\n",
      " |  \n",
      " |  ----------------------------------------------------------------------\n",
      " |  Methods inherited from TwitterCall:\n",
      " |  \n",
      " |  __call__(self, **kwargs)\n",
      " |  \n",
      " |  __getattr__(self, k)\n",
      " |  \n",
      " |  ----------------------------------------------------------------------\n",
      " |  Data descriptors inherited from TwitterCall:\n",
      " |  \n",
      " |  __dict__\n",
      " |      dictionary for instance variables (if defined)\n",
      " |  \n",
      " |  __weakref__\n",
      " |      list of weak references to the object (if defined)\n",
      " |  \n",
      " |  ----------------------------------------------------------------------\n",
      " |  Data and other attributes inherited from TwitterCall:\n",
      " |  \n",
      " |  TWITTER_UNAVAILABLE_WAIT = 30\n",
      "\n"
     ]
    }
   ],
   "source": [
    "import twitter\n",
    "help(twitter.Twitter)"
   ]
  },
  {
   "cell_type": "markdown",
   "metadata": {
    "deletable": true,
    "editable": true,
    "slideshow": {
     "slide_type": "-"
    }
   },
   "source": [
    "<img src=\"images/book.png\">"
   ]
  },
  {
   "cell_type": "code",
   "execution_count": null,
   "metadata": {
    "collapsed": false,
    "deletable": true,
    "editable": true
   },
   "outputs": [],
   "source": []
  },
  {
   "cell_type": "markdown",
   "metadata": {
    "deletable": true,
    "editable": true,
    "slideshow": {
     "slide_type": "slide"
    }
   },
   "source": [
    "<img src=\"images/api1.png\">"
   ]
  },
  {
   "cell_type": "code",
   "execution_count": null,
   "metadata": {
    "collapsed": false,
    "deletable": true,
    "editable": true
   },
   "outputs": [],
   "source": []
  },
  {
   "cell_type": "markdown",
   "metadata": {
    "deletable": true,
    "editable": true
   },
   "source": [
    "<img src=\"images/api2.png\">"
   ]
  },
  {
   "cell_type": "code",
   "execution_count": null,
   "metadata": {
    "collapsed": false,
    "deletable": true,
    "editable": true
   },
   "outputs": [],
   "source": []
  },
  {
   "cell_type": "markdown",
   "metadata": {
    "deletable": true,
    "editable": true
   },
   "source": [
    "<img src=\"images/api3.png\">"
   ]
  },
  {
   "cell_type": "code",
   "execution_count": null,
   "metadata": {
    "collapsed": false,
    "deletable": true,
    "editable": true
   },
   "outputs": [],
   "source": []
  },
  {
   "cell_type": "markdown",
   "metadata": {
    "deletable": true,
    "editable": true
   },
   "source": [
    "<img src=\"images/api4.png\">"
   ]
  },
  {
   "cell_type": "code",
   "execution_count": null,
   "metadata": {
    "collapsed": false,
    "deletable": true,
    "editable": true
   },
   "outputs": [],
   "source": []
  },
  {
   "cell_type": "code",
   "execution_count": 6,
   "metadata": {
    "collapsed": false,
    "deletable": true,
    "editable": true
   },
   "outputs": [],
   "source": [
    "import twitter\n",
    "\n",
    "# need access token from http://dev.twitter.com/apps/new"
   ]
  },
  {
   "cell_type": "code",
   "execution_count": 1,
   "metadata": {
    "collapsed": false,
    "deletable": true,
    "editable": true
   },
   "outputs": [],
   "source": [
    "# setup handshake with API use your access info\n",
    "CONSUMER_KEY = '' # add your auth info\n",
    "CONSUMER_SECRET = ''\n",
    "OAUTH_TOKEN = ''\n",
    "OAUTH_TOKEN_SECRET = ''"
   ]
  },
  {
   "cell_type": "code",
   "execution_count": 19,
   "metadata": {
    "collapsed": false,
    "deletable": true,
    "editable": true
   },
   "outputs": [],
   "source": [
    "auth = twitter.oauth.OAuth(OAUTH_TOKEN, OAUTH_TOKEN_SECRET,\n",
    "                           CONSUMER_KEY, CONSUMER_SECRET)"
   ]
  },
  {
   "cell_type": "code",
   "execution_count": 20,
   "metadata": {
    "collapsed": false,
    "deletable": true,
    "editable": true
   },
   "outputs": [],
   "source": [
    "twitter_api = twitter.Twitter(auth=auth)"
   ]
  },
  {
   "cell_type": "code",
   "execution_count": 21,
   "metadata": {
    "collapsed": false,
    "deletable": true,
    "editable": true
   },
   "outputs": [
    {
     "name": "stdout",
     "output_type": "stream",
     "text": [
      "<twitter.api.Twitter object at 0x7fe3540ed750>\n"
     ]
    }
   ],
   "source": [
    "# this creates a twitter api object that gives us access to the twitter API\n",
    "print twitter_api"
   ]
  },
  {
   "cell_type": "markdown",
   "metadata": {
    "deletable": true,
    "editable": true
   },
   "source": [
    "We can use the API to explore world wide trends across twitter using  \n",
    "country codes that are available at  \n",
    "http://developer.yahoo.com/geo/geoplanet\n",
    "\n",
    "These focus can be at the level of the country (ie New Zealand is 23424916) or more locally (ie Palmy is 2350025)    "
   ]
  },
  {
   "cell_type": "code",
   "execution_count": 22,
   "metadata": {
    "collapsed": false,
    "deletable": true,
    "editable": true
   },
   "outputs": [],
   "source": [
    "# World, USA and New Zealand trends\n",
    "WORLD_WOE_ID = 1\n",
    "US_WOE_ID = 23424977\n",
    "NZ_WOE_ID = 23424916"
   ]
  },
  {
   "cell_type": "code",
   "execution_count": 33,
   "metadata": {
    "collapsed": false,
    "deletable": true,
    "editable": true
   },
   "outputs": [],
   "source": [
    "# get the trends\n",
    "world_trends = twitter_api.trends.place(_id=WORLD_WOE_ID)\n",
    "us_trends = twitter_api.trends.place(_id=US_WOE_ID)\n",
    "nz_trends = twitter_api.trends.place(_id=NZ_WOE_ID)"
   ]
  },
  {
   "cell_type": "code",
   "execution_count": 34,
   "metadata": {
    "collapsed": false,
    "deletable": true,
    "editable": true
   },
   "outputs": [
    {
     "name": "stdout",
     "output_type": "stream",
     "text": [
      "[{u'created_at': u'2017-02-02T19:33:53Z', u'trends': [{u'url': u'http://twitter.com/search?q=%23%D8%A7%D9%84%D9%87%D9%84%D8%A7%D9%84_%D8%A7%D9%84%D9%82%D8%A7%D8%AF%D8%B3%D9%8A%D9%87', u'query': u'%23%D8%A7%D9%84%D9%87%D9%84%D8%A7%D9%84_%D8%A7%D9%84%D9%82%D8%A7%D8%AF%D8%B3%D9%8A%D9%87', u'tweet_volume': None, u'name': u'#\\u0627\\u0644\\u0647\\u0644\\u0627\\u0644_\\u0627\\u0644\\u0642\\u0627\\u062f\\u0633\\u064a\\u0647', u'promoted_content': None}, {u'url': u'http://twitter.com/search?q=%23GroundhogDay', u'query': u'%23GroundhogDay', u'tweet_volume': 137456, u'name': u'#GroundhogDay', u'promoted_content': None}, {u'url': u'http://twitter.com/search?q=%23BenimVatan%C4%B1m', u'query': u'%23BenimVatan%C4%B1m', u'tweet_volume': 27995, u'name': u'#BenimVatan\\u0131m', u'promoted_content': None}, {u'url': u'http://twitter.com/search?q=%23%D8%A7%D9%83%D8%AB%D8%B1_%D8%B4%D9%8A%D8%A1_%D9%8A%D8%AC%D8%B0%D8%A8%D9%83_%D8%A8%D8%B4%D9%83%D9%84_%D8%A7%D9%84%D8%B1%D8%AC%D9%84', u'query': u'%23%D8%A7%D9%83%D8%AB%D8%B1_%D8%B4%D9%8A%D8%A1_%D9%8A%D8%AC%D8%B0%D8%A8%D9%83_%D8%A8%D8%B4%D9%83%D9%84_%D8%A7%D9%84%D8%B1%D8%AC%D9%84', u'tweet_volume': 18125, u'name': u'#\\u0627\\u0643\\u062b\\u0631_\\u0634\\u064a\\u0621_\\u064a\\u062c\\u0630\\u0628\\u0643_\\u0628\\u0634\\u0643\\u0644_\\u0627\\u0644\\u0631\\u062c\\u0644', u'promoted_content': None}, {u'url': u'http://twitter.com/search?q=%23%D8%AD%D9%81%D9%84_%D9%81%D9%86%D8%A7%D9%86%D9%87_%D8%A7%D9%84%D8%B9%D8%B1%D8%A8_%D9%86%D9%88%D8%A7%D9%84_mbc', u'query': u'%23%D8%AD%D9%81%D9%84_%D9%81%D9%86%D8%A7%D9%86%D9%87_%D8%A7%D9%84%D8%B9%D8%B1%D8%A8_%D9%86%D9%88%D8%A7%D9%84_mbc', u'tweet_volume': None, u'name': u'#\\u062d\\u0641\\u0644_\\u0641\\u0646\\u0627\\u0646\\u0647_\\u0627\\u0644\\u0639\\u0631\\u0628_\\u0646\\u0648\\u0627\\u0644_mbc', u'promoted_content': None}, {u'url': u'http://twitter.com/search?q=%22%D9%8A%D8%A7%D8%B3%D8%B1+%D8%A7%D9%84%D8%B4%D9%87%D8%B1%D8%A7%D9%86%D9%8A%22', u'query': u'%22%D9%8A%D8%A7%D8%B3%D8%B1+%D8%A7%D9%84%D8%B4%D9%87%D8%B1%D8%A7%D9%86%D9%8A%22', u'tweet_volume': None, u'name': u'\\u064a\\u0627\\u0633\\u0631 \\u0627\\u0644\\u0634\\u0647\\u0631\\u0627\\u0646\\u064a', u'promoted_content': None}, {u'url': u'http://twitter.com/search?q=%22EMILLY+DESTRUIDORA%22', u'query': u'%22EMILLY+DESTRUIDORA%22', u'tweet_volume': 21792, u'name': u'EMILLY DESTRUIDORA', u'promoted_content': None}, {u'url': u'http://twitter.com/search?q=%22Rodrigo+Maia%22', u'query': u'%22Rodrigo+Maia%22', u'tweet_volume': None, u'name': u'Rodrigo Maia', u'promoted_content': None}, {u'url': u'http://twitter.com/search?q=%22Hakan+%C3%87alhano%C4%9Flu%22', u'query': u'%22Hakan+%C3%87alhano%C4%9Flu%22', u'tweet_volume': 11705, u'name': u'Hakan \\xc7alhano\\u011flu', u'promoted_content': None}, {u'url': u'http://twitter.com/search?q=%22DIRECTIONER+ATTACK%22', u'query': u'%22DIRECTIONER+ATTACK%22', u'tweet_volume': 266769, u'name': u'DIRECTIONER ATTACK', u'promoted_content': None}, {u'url': u'http://twitter.com/search?q=%22Frank+Lampard%22', u'query': u'%22Frank+Lampard%22', u'tweet_volume': 177634, u'name': u'Frank Lampard', u'promoted_content': None}, {u'url': u'http://twitter.com/search?q=%22Loco+Abreu%22', u'query': u'%22Loco+Abreu%22', u'tweet_volume': None, u'name': u'Loco Abreu', u'promoted_content': None}, {u'url': u'http://twitter.com/search?q=Givenchy', u'query': u'Givenchy', u'tweet_volume': 12355, u'name': u'Givenchy', u'promoted_content': None}, {u'url': u'http://twitter.com/search?q=%22Matthew+McConaughey%22', u'query': u'%22Matthew+McConaughey%22', u'tweet_volume': 27116, u'name': u'Matthew McConaughey', u'promoted_content': None}, {u'url': u'http://twitter.com/search?q=%22Od%C3%ADn+S%C3%A1nchez%22', u'query': u'%22Od%C3%ADn+S%C3%A1nchez%22', u'tweet_volume': 13131, u'name': u'Od\\xedn S\\xe1nchez', u'promoted_content': None}, {u'url': u'http://twitter.com/search?q=%22Arnold+Schwarzenegger%22', u'query': u'%22Arnold+Schwarzenegger%22', u'tweet_volume': 38883, u'name': u'Arnold Schwarzenegger', u'promoted_content': None}, {u'url': u'http://twitter.com/search?q=%23NaoMeDeOpiniaoMeDe', u'query': u'%23NaoMeDeOpiniaoMeDe', u'tweet_volume': 17498, u'name': u'#NaoMeDeOpiniaoMeDe', u'promoted_content': None}, {u'url': u'http://twitter.com/search?q=%23KCAEstrellaLatina', u'query': u'%23KCAEstrellaLatina', u'tweet_volume': 16371, u'name': u'#KCAEstrellaLatina', u'promoted_content': None}, {u'url': u'http://twitter.com/search?q=%23UnlimitedMoves', u'query': u'%23UnlimitedMoves', u'tweet_volume': 48865, u'name': u'#UnlimitedMoves', u'promoted_content': None}, {u'url': u'http://twitter.com/search?q=%23D%C3%ADaDeLaCandelaria', u'query': u'%23D%C3%ADaDeLaCandelaria', u'tweet_volume': 14205, u'name': u'#D\\xedaDeLaCandelaria', u'promoted_content': None}, {u'url': u'http://twitter.com/search?q=%23KCAFavGlobalMusicStar', u'query': u'%23KCAFavGlobalMusicStar', u'tweet_volume': 98780, u'name': u'#KCAFavGlobalMusicStar', u'promoted_content': None}, {u'url': u'http://twitter.com/search?q=%23pelisconprecinto', u'query': u'%23pelisconprecinto', u'tweet_volume': None, u'name': u'#pelisconprecinto', u'promoted_content': None}, {u'url': u'http://twitter.com/search?q=%23WhatBringsMeJoy', u'query': u'%23WhatBringsMeJoy', u'tweet_volume': None, u'name': u'#WhatBringsMeJoy', u'promoted_content': None}, {u'url': u'http://twitter.com/search?q=%23FelizJueves', u'query': u'%23FelizJueves', u'tweet_volume': 42725, u'name': u'#FelizJueves', u'promoted_content': None}, {u'url': u'http://twitter.com/search?q=%23CMRGHA', u'query': u'%23CMRGHA', u'tweet_volume': None, u'name': u'#CMRGHA', u'promoted_content': None}, {u'url': u'http://twitter.com/search?q=%23Isibaya', u'query': u'%23Isibaya', u'tweet_volume': None, u'name': u'#Isibaya', u'promoted_content': None}, {u'url': u'http://twitter.com/search?q=%23FebreroRebelde', u'query': u'%23FebreroRebelde', u'tweet_volume': 31054, u'name': u'#FebreroRebelde', u'promoted_content': None}, {u'url': u'http://twitter.com/search?q=%23BolsonaroPresidenteDaCamara', u'query': u'%23BolsonaroPresidenteDaCamara', u'tweet_volume': 23900, u'name': u'#BolsonaroPresidenteDaCamara', u'promoted_content': None}, {u'url': u'http://twitter.com/search?q=%23Romeo', u'query': u'%23Romeo', u'tweet_volume': None, u'name': u'#Romeo', u'promoted_content': None}, {u'url': u'http://twitter.com/search?q=%23dividetour', u'query': u'%23dividetour', u'tweet_volume': 43920, u'name': u'#dividetour', u'promoted_content': None}, {u'url': u'http://twitter.com/search?q=%23ThursdayThoughts', u'query': u'%23ThursdayThoughts', u'tweet_volume': 32687, u'name': u'#ThursdayThoughts', u'promoted_content': None}, {u'url': u'http://twitter.com/search?q=%23RuVeal', u'query': u'%23RuVeal', u'tweet_volume': None, u'name': u'#RuVeal', u'promoted_content': None}, {u'url': u'http://twitter.com/search?q=%23%EB%B3%B8%EC%9D%B8%EC%9D%B4_%EA%B1%B0%EC%B3%90%EC%98%A8_%EB%8D%95%EC%A7%88_%EA%B2%BD%EB%A1%9C%EB%A5%BC_%EB%A7%90%ED%95%B4%EB%B3%B4%EC%9E%90', u'query': u'%23%EB%B3%B8%EC%9D%B8%EC%9D%B4_%EA%B1%B0%EC%B3%90%EC%98%A8_%EB%8D%95%EC%A7%88_%EA%B2%BD%EB%A1%9C%EB%A5%BC_%EB%A7%90%ED%95%B4%EB%B3%B4%EC%9E%90', u'tweet_volume': None, u'name': u'#\\ubcf8\\uc778\\uc774_\\uac70\\uccd0\\uc628_\\ub355\\uc9c8_\\uacbd\\ub85c\\ub97c_\\ub9d0\\ud574\\ubcf4\\uc790', u'promoted_content': None}, {u'url': u'http://twitter.com/search?q=%23%D8%A7%D9%86%D8%A7_%D9%85%D8%B9_%D8%A7%D9%84%D9%86%D8%B5%D8%B1', u'query': u'%23%D8%A7%D9%86%D8%A7_%D9%85%D8%B9_%D8%A7%D9%84%D9%86%D8%B5%D8%B1', u'tweet_volume': None, u'name': u'#\\u0627\\u0646\\u0627_\\u0645\\u0639_\\u0627\\u0644\\u0646\\u0635\\u0631', u'promoted_content': None}, {u'url': u'http://twitter.com/search?q=%23Rubi014', u'query': u'%23Rubi014', u'tweet_volume': None, u'name': u'#Rubi014', u'promoted_content': None}, {u'url': u'http://twitter.com/search?q=%23InesBrasilPresidente', u'query': u'%23InesBrasilPresidente', u'tweet_volume': 23228, u'name': u'#InesBrasilPresidente', u'promoted_content': None}, {u'url': u'http://twitter.com/search?q=%23ateema', u'query': u'%23ateema', u'tweet_volume': None, u'name': u'#ateema', u'promoted_content': None}, {u'url': u'http://twitter.com/search?q=%23farketmeden', u'query': u'%23farketmeden', u'tweet_volume': 119367, u'name': u'#farketmeden', u'promoted_content': None}, {u'url': u'http://twitter.com/search?q=%23KCAFavMusicGroup', u'query': u'%23KCAFavMusicGroup', u'tweet_volume': 38846, u'name': u'#KCAFavMusicGroup', u'promoted_content': None}, {u'url': u'http://twitter.com/search?q=%23HappyKyuhyunDay', u'query': u'%23HappyKyuhyunDay', u'tweet_volume': 62643, u'name': u'#HappyKyuhyunDay', u'promoted_content': None}, {u'url': u'http://twitter.com/search?q=%23FNBCSK', u'query': u'%23FNBCSK', u'tweet_volume': None, u'name': u'#FNBCSK', u'promoted_content': None}, {u'url': u'http://twitter.com/search?q=%23%D8%AA%D9%81%D8%AA%D9%83%D8%B1_%D9%87%D9%86%D9%81%D8%B1%D8%AD_%D8%A7%D9%85%D8%AA%D9%87', u'query': u'%23%D8%AA%D9%81%D8%AA%D9%83%D8%B1_%D9%87%D9%86%D9%81%D8%B1%D8%AD_%D8%A7%D9%85%D8%AA%D9%87', u'tweet_volume': 31542, u'name': u'#\\u062a\\u0641\\u062a\\u0643\\u0631_\\u0647\\u0646\\u0641\\u0631\\u062d_\\u0627\\u0645\\u062a\\u0647', u'promoted_content': None}, {u'url': u'http://twitter.com/search?q=%23KCAFavPinoyStar', u'query': u'%23KCAFavPinoyStar', u'tweet_volume': 25006, u'name': u'#KCAFavPinoyStar', u'promoted_content': None}, {u'url': u'http://twitter.com/search?q=%23%D8%AA%D8%B9%D8%B7%D9%84_%D9%85%D9%88%D9%82%D8%B9_%D8%AC%D8%A7%D9%85%D8%B9%D9%87_%D8%A7%D9%84%D8%A7%D9%85%D8%A7%D9%85', u'query': u'%23%D8%AA%D8%B9%D8%B7%D9%84_%D9%85%D9%88%D9%82%D8%B9_%D8%AC%D8%A7%D9%85%D8%B9%D9%87_%D8%A7%D9%84%D8%A7%D9%85%D8%A7%D9%85', u'tweet_volume': None, u'name': u'#\\u062a\\u0639\\u0637\\u0644_\\u0645\\u0648\\u0642\\u0639_\\u062c\\u0627\\u0645\\u0639\\u0647_\\u0627\\u0644\\u0627\\u0645\\u0627\\u0645', u'promoted_content': None}, {u'url': u'http://twitter.com/search?q=%23FillonCharleville', u'query': u'%23FillonCharleville', u'tweet_volume': None, u'name': u'#FillonCharleville', u'promoted_content': None}, {u'url': u'http://twitter.com/search?q=%23%D9%86%D9%81%D8%B3%D9%83_%D8%AA%D8%AC%D8%B1%D8%A8_%D8%A7%D9%8A%D9%87', u'query': u'%23%D9%86%D9%81%D8%B3%D9%83_%D8%AA%D8%AC%D8%B1%D8%A8_%D8%A7%D9%8A%D9%87', u'tweet_volume': 21384, u'name': u'#\\u0646\\u0641\\u0633\\u0643_\\u062a\\u062c\\u0631\\u0628_\\u0627\\u064a\\u0647', u'promoted_content': None}, {u'url': u'http://twitter.com/search?q=%23EnTwitterPeleanPor', u'query': u'%23EnTwitterPeleanPor', u'tweet_volume': None, u'name': u'#EnTwitterPeleanPor', u'promoted_content': None}, {u'url': u'http://twitter.com/search?q=%23MafiaSdvQueridoDiario', u'query': u'%23MafiaSdvQueridoDiario', u'tweet_volume': None, u'name': u'#MafiaSdvQueridoDiario', u'promoted_content': None}, {u'url': u'http://twitter.com/search?q=%23CarnaFlyNaRadioTang', u'query': u'%23CarnaFlyNaRadioTang', u'tweet_volume': None, u'name': u'#CarnaFlyNaRadioTang', u'promoted_content': None}, {u'url': u'http://twitter.com/search?q=%23ElMuroSePagaConMaruchan', u'query': u'%23ElMuroSePagaConMaruchan', u'tweet_volume': None, u'name': u'#ElMuroSePagaConMaruchan', u'promoted_content': None}], u'as_of': u'2017-02-02T19:37:47Z', u'locations': [{u'woeid': 1, u'name': u'Worldwide'}]}]\n"
     ]
    }
   ],
   "source": [
    "print world_trends"
   ]
  },
  {
   "cell_type": "markdown",
   "metadata": {
    "collapsed": false,
    "deletable": true,
    "editable": true
   },
   "source": [
    "All that is happening here is that the API is performing a normal twitter search (ie http://twitter.com/search?q=) using a HTTP request, not really that much magic.\n",
    "\n",
    "**Warning**: Twitter trends are limited to ~300 requests per minute window."
   ]
  },
  {
   "cell_type": "markdown",
   "metadata": {
    "collapsed": false,
    "deletable": true,
    "editable": true
   },
   "source": [
    "The output is in the form of nested python lists and dictionaries\n",
    "**[** **{**u'created_at'**:** u'2017-02-02T18:58:51Z', u'trends'**:** **[** **{**u'url': u'http://twitter.com/search?q=%23%D8%A7%D9%84%D9%87%D9%84%D8%A7%D9%84_%D8%A7%D9%84%D9%82%D8%A7%D8%AF%D8%B3%D9%8A%D9%87',"
   ]
  },
  {
   "cell_type": "markdown",
   "metadata": {
    "collapsed": false,
    "deletable": true,
    "editable": true
   },
   "source": [
    "These types of data structures are perfect for using the JSON format (JavaScript Object Notation), creates objects in attribute-value pairs. Data in JSON format is language agnostic in that many languages have built in parsers that will read JSON.  "
   ]
  },
  {
   "cell_type": "code",
   "execution_count": 25,
   "metadata": {
    "collapsed": false,
    "deletable": true,
    "editable": true
   },
   "outputs": [
    {
     "name": "stdout",
     "output_type": "stream",
     "text": [
      "[\n",
      " {\n",
      "  \"created_at\": \"2017-02-02T18:58:51Z\", \n",
      "  \"trends\": [\n",
      "   {\n",
      "    \"url\": \"http://twitter.com/search?q=%23%D8%A7%D9%84%D9%87%D9%84%D8%A7%D9%84_%D8%A7%D9%84%D9%82%D8%A7%D8%AF%D8%B3%D9%8A%D9%87\", \n",
      "    \"query\": \"%23%D8%A7%D9%84%D9%87%D9%84%D8%A7%D9%84_%D8%A7%D9%84%D9%82%D8%A7%D8%AF%D8%B3%D9%8A%D9%87\", \n",
      "    \"tweet_volume\": null, \n",
      "    \"name\": \"#\\u0627\\u0644\\u0647\\u0644\\u0627\\u0644_\\u0627\\u0644\\u0642\\u0627\\u062f\\u0633\\u064a\\u0647\", \n",
      "    \"promoted_content\": null\n",
      "   }, \n",
      "   {\n",
      "    \"url\": \"http://twitter.com/search?q=%23GroundhogDay\", \n",
      "    \"query\": \"%23GroundhogDay\", \n",
      "    \"tweet_volume\": 131495, \n",
      "    \"name\": \"#GroundhogDay\", \n",
      "    \"promoted_content\": null\n",
      "   }, \n",
      "   {\n",
      "    \"url\": \"http://twitter.com/search?q=%23NaoMeDeOpiniaoMeDe\", \n",
      "    \"query\": \"%23NaoMeDeOpiniaoMeDe\", \n",
      "    \"tweet_volume\": 15960, \n",
      "    \"name\": \"#NaoMeDeOpiniaoMeDe\", \n",
      "    \"promoted_content\": null\n",
      "   }, \n",
      "   {\n",
      "    \"url\": \"http://twitter.com/search?q=%23BenimVatan%C4%B1m\", \n",
      "    \"query\": \"%23BenimVatan%C4%B1m\", \n",
      "    \"tweet_volume\": 18557, \n",
      "    \"name\": \"#BenimVatan\\u0131m\", \n",
      "    \"promoted_content\": null\n",
      "   }, \n",
      "   {\n",
      "    \"url\": \"http://twitter.com/search?q=%23D%C3%ADaDeLaCandelaria\", \n",
      "    \"query\": \"%23D%C3%ADaDeLaCandelaria\", \n",
      "    \"tweet_volume\": 12938, \n",
      "    \"name\": \"#D\\u00edaDeLaCandelaria\", \n",
      "    \"promoted_content\": null\n",
      "   }, \n",
      "   {\n",
      "    \"url\": \"http://twitter.com/search?q=%22Hakan+%C3%87alhano%C4%9Flu%22\", \n",
      "    \"query\": \"%22Hakan+%C3%87alhano%C4%9Flu%22\", \n",
      "    \"tweet_volume\": 10526, \n",
      "    \"name\": \"Hakan \\u00c7alhano\\u011flu\", \n",
      "    \"promoted_content\": null\n",
      "   }, \n",
      "   {\n",
      "    \"url\": \"http://twitter.com/search?q=%22Rodrigo+Maia%22\", \n",
      "    \"query\": \"%22Rodrigo+Maia%22\", \n",
      "    \"tweet_volume\": null, \n",
      "    \"name\": \"Rodrigo Maia\", \n",
      "    \"promoted_content\": null\n",
      "   }, \n",
      "   {\n",
      "    \"url\": \"http://twitter.com/search?q=%22EMILLY+DESTRUIDORA%22\", \n",
      "    \"query\": \"%22EMILLY+DESTRUIDORA%22\", \n",
      "    \"tweet_volume\": 14804, \n",
      "    \"name\": \"EMILLY DESTRUIDORA\", \n",
      "    \"promoted_content\": null\n",
      "   }, \n",
      "   {\n",
      "    \"url\": \"http://twitter.com/search?q=%22DIRECTIONER+ATTACK%22\", \n",
      "    \"query\": \"%22DIRECTIONER+ATTACK%22\", \n",
      "    \"tweet_volume\": 238358, \n",
      "    \"name\": \"DIRECTIONER ATTACK\", \n",
      "    \"promoted_content\": null\n",
      "   }, \n",
      "   {\n",
      "    \"url\": \"http://twitter.com/search?q=%22Frank+Lampard%22\", \n",
      "    \"query\": \"%22Frank+Lampard%22\", \n",
      "    \"tweet_volume\": 172262, \n",
      "    \"name\": \"Frank Lampard\", \n",
      "    \"promoted_content\": null\n",
      "   }, \n",
      "   {\n",
      "    \"url\": \"http://twitter.com/search?q=%22%D9%8A%D8%A7%D8%B3%D8%B1+%D8%A7%D9%84%D8%B4%D9%87%D8%B1%D8%A7%D9%86%D9%8A%22\", \n",
      "    \"query\": \"%22%D9%8A%D8%A7%D8%B3%D8%B1+%D8%A7%D9%84%D8%B4%D9%87%D8%B1%D8%A7%D9%86%D9%8A%22\", \n",
      "    \"tweet_volume\": null, \n",
      "    \"name\": \"\\u064a\\u0627\\u0633\\u0631 \\u0627\\u0644\\u0634\\u0647\\u0631\\u0627\\u0646\\u064a\", \n",
      "    \"promoted_content\": null\n",
      "   }, \n",
      "   {\n",
      "    \"url\": \"http://twitter.com/search?q=%22Od%C3%ADn+S%C3%A1nchez%22\", \n",
      "    \"query\": \"%22Od%C3%ADn+S%C3%A1nchez%22\", \n",
      "    \"tweet_volume\": 12631, \n",
      "    \"name\": \"Od\\u00edn S\\u00e1nchez\", \n",
      "    \"promoted_content\": null\n",
      "   }, \n",
      "   {\n",
      "    \"url\": \"http://twitter.com/search?q=Givenchy\", \n",
      "    \"query\": \"Givenchy\", \n",
      "    \"tweet_volume\": 11673, \n",
      "    \"name\": \"Givenchy\", \n",
      "    \"promoted_content\": null\n",
      "   }, \n",
      "   {\n",
      "    \"url\": \"http://twitter.com/search?q=%23UnlimitedMoves\", \n",
      "    \"query\": \"%23UnlimitedMoves\", \n",
      "    \"tweet_volume\": 43974, \n",
      "    \"name\": \"#UnlimitedMoves\", \n",
      "    \"promoted_content\": null\n",
      "   }, \n",
      "   {\n",
      "    \"url\": \"http://twitter.com/search?q=%23%D8%A7%D9%83%D8%AB%D8%B1_%D8%B4%D9%8A%D8%A1_%D9%8A%D8%AC%D8%B0%D8%A8%D9%83_%D8%A8%D8%B4%D9%83%D9%84_%D8%A7%D9%84%D8%B1%D8%AC%D9%84\", \n",
      "    \"query\": \"%23%D8%A7%D9%83%D8%AB%D8%B1_%D8%B4%D9%8A%D8%A1_%D9%8A%D8%AC%D8%B0%D8%A8%D9%83_%D8%A8%D8%B4%D9%83%D9%84_%D8%A7%D9%84%D8%B1%D8%AC%D9%84\", \n",
      "    \"tweet_volume\": 14780, \n",
      "    \"name\": \"#\\u0627\\u0643\\u062b\\u0631_\\u0634\\u064a\\u0621_\\u064a\\u062c\\u0630\\u0628\\u0643_\\u0628\\u0634\\u0643\\u0644_\\u0627\\u0644\\u0631\\u062c\\u0644\", \n",
      "    \"promoted_content\": null\n",
      "   }, \n",
      "   {\n",
      "    \"url\": \"http://twitter.com/search?q=%23KCAFavGlobalMusicStar\", \n",
      "    \"query\": \"%23KCAFavGlobalMusicStar\", \n",
      "    \"tweet_volume\": 85620, \n",
      "    \"name\": \"#KCAFavGlobalMusicStar\", \n",
      "    \"promoted_content\": null\n",
      "   }, \n",
      "   {\n",
      "    \"url\": \"http://twitter.com/search?q=%23KCAEstrellaLatina\", \n",
      "    \"query\": \"%23KCAEstrellaLatina\", \n",
      "    \"tweet_volume\": 10321, \n",
      "    \"name\": \"#KCAEstrellaLatina\", \n",
      "    \"promoted_content\": null\n",
      "   }, \n",
      "   {\n",
      "    \"url\": \"http://twitter.com/search?q=%23FelizJueves\", \n",
      "    \"query\": \"%23FelizJueves\", \n",
      "    \"tweet_volume\": 41199, \n",
      "    \"name\": \"#FelizJueves\", \n",
      "    \"promoted_content\": null\n",
      "   }, \n",
      "   {\n",
      "    \"url\": \"http://twitter.com/search?q=%23%D8%AD%D9%81%D9%84_%D9%81%D9%86%D8%A7%D9%86%D9%87_%D8%A7%D9%84%D8%B9%D8%B1%D8%A8_%D9%86%D9%88%D8%A7%D9%84_mbc\", \n",
      "    \"query\": \"%23%D8%AD%D9%81%D9%84_%D9%81%D9%86%D8%A7%D9%86%D9%87_%D8%A7%D9%84%D8%B9%D8%B1%D8%A8_%D9%86%D9%88%D8%A7%D9%84_mbc\", \n",
      "    \"tweet_volume\": null, \n",
      "    \"name\": \"#\\u062d\\u0641\\u0644_\\u0641\\u0646\\u0627\\u0646\\u0647_\\u0627\\u0644\\u0639\\u0631\\u0628_\\u0646\\u0648\\u0627\\u0644_mbc\", \n",
      "    \"promoted_content\": null\n",
      "   }, \n",
      "   {\n",
      "    \"url\": \"http://twitter.com/search?q=%23Isibaya\", \n",
      "    \"query\": \"%23Isibaya\", \n",
      "    \"tweet_volume\": null, \n",
      "    \"name\": \"#Isibaya\", \n",
      "    \"promoted_content\": null\n",
      "   }, \n",
      "   {\n",
      "    \"url\": \"http://twitter.com/search?q=%23%EB%B3%B8%EC%9D%B8%EC%9D%B4_%EA%B1%B0%EC%B3%90%EC%98%A8_%EB%8D%95%EC%A7%88_%EA%B2%BD%EB%A1%9C%EB%A5%BC_%EB%A7%90%ED%95%B4%EB%B3%B4%EC%9E%90\", \n",
      "    \"query\": \"%23%EB%B3%B8%EC%9D%B8%EC%9D%B4_%EA%B1%B0%EC%B3%90%EC%98%A8_%EB%8D%95%EC%A7%88_%EA%B2%BD%EB%A1%9C%EB%A5%BC_%EB%A7%90%ED%95%B4%EB%B3%B4%EC%9E%90\", \n",
      "    \"tweet_volume\": null, \n",
      "    \"name\": \"#\\ubcf8\\uc778\\uc774_\\uac70\\uccd0\\uc628_\\ub355\\uc9c8_\\uacbd\\ub85c\\ub97c_\\ub9d0\\ud574\\ubcf4\\uc790\", \n",
      "    \"promoted_content\": null\n",
      "   }, \n",
      "   {\n",
      "    \"url\": \"http://twitter.com/search?q=%23dividetour\", \n",
      "    \"query\": \"%23dividetour\", \n",
      "    \"tweet_volume\": 42635, \n",
      "    \"name\": \"#dividetour\", \n",
      "    \"promoted_content\": null\n",
      "   }, \n",
      "   {\n",
      "    \"url\": \"http://twitter.com/search?q=%23InesBrasilPresidente\", \n",
      "    \"query\": \"%23InesBrasilPresidente\", \n",
      "    \"tweet_volume\": 22467, \n",
      "    \"name\": \"#InesBrasilPresidente\", \n",
      "    \"promoted_content\": null\n",
      "   }, \n",
      "   {\n",
      "    \"url\": \"http://twitter.com/search?q=%23ThursdayThoughts\", \n",
      "    \"query\": \"%23ThursdayThoughts\", \n",
      "    \"tweet_volume\": 30702, \n",
      "    \"name\": \"#ThursdayThoughts\", \n",
      "    \"promoted_content\": null\n",
      "   }, \n",
      "   {\n",
      "    \"url\": \"http://twitter.com/search?q=%23EsteFebreroYo\", \n",
      "    \"query\": \"%23EsteFebreroYo\", \n",
      "    \"tweet_volume\": null, \n",
      "    \"name\": \"#EsteFebreroYo\", \n",
      "    \"promoted_content\": null\n",
      "   }, \n",
      "   {\n",
      "    \"url\": \"http://twitter.com/search?q=%23BolsonaroPresidenteDaCamara\", \n",
      "    \"query\": \"%23BolsonaroPresidenteDaCamara\", \n",
      "    \"tweet_volume\": 22383, \n",
      "    \"name\": \"#BolsonaroPresidenteDaCamara\", \n",
      "    \"promoted_content\": null\n",
      "   }, \n",
      "   {\n",
      "    \"url\": \"http://twitter.com/search?q=%23Romeo\", \n",
      "    \"query\": \"%23Romeo\", \n",
      "    \"tweet_volume\": null, \n",
      "    \"name\": \"#Romeo\", \n",
      "    \"promoted_content\": null\n",
      "   }, \n",
      "   {\n",
      "    \"url\": \"http://twitter.com/search?q=%23HappyKyuhyunDay\", \n",
      "    \"query\": \"%23HappyKyuhyunDay\", \n",
      "    \"tweet_volume\": 60692, \n",
      "    \"name\": \"#HappyKyuhyunDay\", \n",
      "    \"promoted_content\": null\n",
      "   }, \n",
      "   {\n",
      "    \"url\": \"http://twitter.com/search?q=%23pelisconprecinto\", \n",
      "    \"query\": \"%23pelisconprecinto\", \n",
      "    \"tweet_volume\": null, \n",
      "    \"name\": \"#pelisconprecinto\", \n",
      "    \"promoted_content\": null\n",
      "   }, \n",
      "   {\n",
      "    \"url\": \"http://twitter.com/search?q=%23EnTwitterPeleanPor\", \n",
      "    \"query\": \"%23EnTwitterPeleanPor\", \n",
      "    \"tweet_volume\": null, \n",
      "    \"name\": \"#EnTwitterPeleanPor\", \n",
      "    \"promoted_content\": null\n",
      "   }, \n",
      "   {\n",
      "    \"url\": \"http://twitter.com/search?q=%23farketmeden\", \n",
      "    \"query\": \"%23farketmeden\", \n",
      "    \"tweet_volume\": 105696, \n",
      "    \"name\": \"#farketmeden\", \n",
      "    \"promoted_content\": null\n",
      "   }, \n",
      "   {\n",
      "    \"url\": \"http://twitter.com/search?q=%23PenceBlackHistory\", \n",
      "    \"query\": \"%23PenceBlackHistory\", \n",
      "    \"tweet_volume\": null, \n",
      "    \"name\": \"#PenceBlackHistory\", \n",
      "    \"promoted_content\": null\n",
      "   }, \n",
      "   {\n",
      "    \"url\": \"http://twitter.com/search?q=%23%D8%AA%D8%B9%D8%B7%D9%84_%D9%85%D9%88%D9%82%D8%B9_%D8%AC%D8%A7%D9%85%D8%B9%D9%87_%D8%A7%D9%84%D8%A7%D9%85%D8%A7%D9%85\", \n",
      "    \"query\": \"%23%D8%AA%D8%B9%D8%B7%D9%84_%D9%85%D9%88%D9%82%D8%B9_%D8%AC%D8%A7%D9%85%D8%B9%D9%87_%D8%A7%D9%84%D8%A7%D9%85%D8%A7%D9%85\", \n",
      "    \"tweet_volume\": null, \n",
      "    \"name\": \"#\\u062a\\u0639\\u0637\\u0644_\\u0645\\u0648\\u0642\\u0639_\\u062c\\u0627\\u0645\\u0639\\u0647_\\u0627\\u0644\\u0627\\u0645\\u0627\\u0645\", \n",
      "    \"promoted_content\": null\n",
      "   }, \n",
      "   {\n",
      "    \"url\": \"http://twitter.com/search?q=%23FrasesDeGarca\", \n",
      "    \"query\": \"%23FrasesDeGarca\", \n",
      "    \"tweet_volume\": null, \n",
      "    \"name\": \"#FrasesDeGarca\", \n",
      "    \"promoted_content\": null\n",
      "   }, \n",
      "   {\n",
      "    \"url\": \"http://twitter.com/search?q=%23KCAFavPinoyStar\", \n",
      "    \"query\": \"%23KCAFavPinoyStar\", \n",
      "    \"tweet_volume\": 15855, \n",
      "    \"name\": \"#KCAFavPinoyStar\", \n",
      "    \"promoted_content\": null\n",
      "   }, \n",
      "   {\n",
      "    \"url\": \"http://twitter.com/search?q=%23KCAFavMusicGroup\", \n",
      "    \"query\": \"%23KCAFavMusicGroup\", \n",
      "    \"tweet_volume\": 33590, \n",
      "    \"name\": \"#KCAFavMusicGroup\", \n",
      "    \"promoted_content\": null\n",
      "   }, \n",
      "   {\n",
      "    \"url\": \"http://twitter.com/search?q=%23ElMuroSePagaConMaruchan\", \n",
      "    \"query\": \"%23ElMuroSePagaConMaruchan\", \n",
      "    \"tweet_volume\": null, \n",
      "    \"name\": \"#ElMuroSePagaConMaruchan\", \n",
      "    \"promoted_content\": null\n",
      "   }, \n",
      "   {\n",
      "    \"url\": \"http://twitter.com/search?q=%23CosasDelDiablo\", \n",
      "    \"query\": \"%23CosasDelDiablo\", \n",
      "    \"tweet_volume\": null, \n",
      "    \"name\": \"#CosasDelDiablo\", \n",
      "    \"promoted_content\": null\n",
      "   }, \n",
      "   {\n",
      "    \"url\": \"http://twitter.com/search?q=%23FillonCharleville\", \n",
      "    \"query\": \"%23FillonCharleville\", \n",
      "    \"tweet_volume\": null, \n",
      "    \"name\": \"#FillonCharleville\", \n",
      "    \"promoted_content\": null\n",
      "   }, \n",
      "   {\n",
      "    \"url\": \"http://twitter.com/search?q=%23KCAFavMaleSinger\", \n",
      "    \"query\": \"%23KCAFavMaleSinger\", \n",
      "    \"tweet_volume\": 22847, \n",
      "    \"name\": \"#KCAFavMaleSinger\", \n",
      "    \"promoted_content\": null\n",
      "   }, \n",
      "   {\n",
      "    \"url\": \"http://twitter.com/search?q=%23%D8%A7%D9%86%D8%A7_%D9%85%D8%B9_%D8%A7%D9%84%D9%86%D8%B5%D8%B1\", \n",
      "    \"query\": \"%23%D8%A7%D9%86%D8%A7_%D9%85%D8%B9_%D8%A7%D9%84%D9%86%D8%B5%D8%B1\", \n",
      "    \"tweet_volume\": null, \n",
      "    \"name\": \"#\\u0627\\u0646\\u0627_\\u0645\\u0639_\\u0627\\u0644\\u0646\\u0635\\u0631\", \n",
      "    \"promoted_content\": null\n",
      "   }, \n",
      "   {\n",
      "    \"url\": \"http://twitter.com/search?q=%23%D9%86%D9%81%D8%B3%D9%83_%D8%AA%D8%AC%D8%B1%D8%A8_%D8%A7%D9%8A%D9%87\", \n",
      "    \"query\": \"%23%D9%86%D9%81%D8%B3%D9%83_%D8%AA%D8%AC%D8%B1%D8%A8_%D8%A7%D9%8A%D9%87\", \n",
      "    \"tweet_volume\": 20922, \n",
      "    \"name\": \"#\\u0646\\u0641\\u0633\\u0643_\\u062a\\u062c\\u0631\\u0628_\\u0627\\u064a\\u0647\", \n",
      "    \"promoted_content\": null\n",
      "   }, \n",
      "   {\n",
      "    \"url\": \"http://twitter.com/search?q=%23%D8%AA%D9%81%D8%AA%D9%83%D8%B1_%D9%87%D9%86%D9%81%D8%B1%D8%AD_%D8%A7%D9%85%D8%AA%D9%87\", \n",
      "    \"query\": \"%23%D8%AA%D9%81%D8%AA%D9%83%D8%B1_%D9%87%D9%86%D9%81%D8%B1%D8%AD_%D8%A7%D9%85%D8%AA%D9%87\", \n",
      "    \"tweet_volume\": 28391, \n",
      "    \"name\": \"#\\u062a\\u0641\\u062a\\u0643\\u0631_\\u0647\\u0646\\u0641\\u0631\\u062d_\\u0627\\u0645\\u062a\\u0647\", \n",
      "    \"promoted_content\": null\n",
      "   }, \n",
      "   {\n",
      "    \"url\": \"http://twitter.com/search?q=%23ruveal\", \n",
      "    \"query\": \"%23ruveal\", \n",
      "    \"tweet_volume\": null, \n",
      "    \"name\": \"#ruveal\", \n",
      "    \"promoted_content\": null\n",
      "   }, \n",
      "   {\n",
      "    \"url\": \"http://twitter.com/search?q=%23%D8%A8%D9%8A%D8%AA_%D9%81%D9%8A%D9%87_%D8%AC%D9%86_%D9%85%D8%B9_%D8%B9%D8%B2%D9%8A%D8%B2_%D8%AF%D8%A7%D9%8A%D8%B1%D9%8A\", \n",
      "    \"query\": \"%23%D8%A8%D9%8A%D8%AA_%D9%81%D9%8A%D9%87_%D8%AC%D9%86_%D9%85%D8%B9_%D8%B9%D8%B2%D9%8A%D8%B2_%D8%AF%D8%A7%D9%8A%D8%B1%D9%8A\", \n",
      "    \"tweet_volume\": 46809, \n",
      "    \"name\": \"#\\u0628\\u064a\\u062a_\\u0641\\u064a\\u0647_\\u062c\\u0646_\\u0645\\u0639_\\u0639\\u0632\\u064a\\u0632_\\u062f\\u0627\\u064a\\u0631\\u064a\", \n",
      "    \"promoted_content\": null\n",
      "   }, \n",
      "   {\n",
      "    \"url\": \"http://twitter.com/search?q=%23For%C3%A7aLula\", \n",
      "    \"query\": \"%23For%C3%A7aLula\", \n",
      "    \"tweet_volume\": 20390, \n",
      "    \"name\": \"#For\\u00e7aLula\", \n",
      "    \"promoted_content\": null\n",
      "   }, \n",
      "   {\n",
      "    \"url\": \"http://twitter.com/search?q=%23%D8%A7%D9%84%D9%88%D8%B5%D9%84_%D8%A7%D9%84%D9%88%D8%AD%D8%AF%D9%87\", \n",
      "    \"query\": \"%23%D8%A7%D9%84%D9%88%D8%B5%D9%84_%D8%A7%D9%84%D9%88%D8%AD%D8%AF%D9%87\", \n",
      "    \"tweet_volume\": null, \n",
      "    \"name\": \"#\\u0627\\u0644\\u0648\\u0635\\u0644_\\u0627\\u0644\\u0648\\u062d\\u062f\\u0647\", \n",
      "    \"promoted_content\": null\n",
      "   }, \n",
      "   {\n",
      "    \"url\": \"http://twitter.com/search?q=%23SinVotoNoHayDinero\", \n",
      "    \"query\": \"%23SinVotoNoHayDinero\", \n",
      "    \"tweet_volume\": null, \n",
      "    \"name\": \"#SinVotoNoHayDinero\", \n",
      "    \"promoted_content\": null\n",
      "   }, \n",
      "   {\n",
      "    \"url\": \"http://twitter.com/search?q=%23UluHakanAbd%C3%BClhamidHan\", \n",
      "    \"query\": \"%23UluHakanAbd%C3%BClhamidHan\", \n",
      "    \"tweet_volume\": null, \n",
      "    \"name\": \"#UluHakanAbd\\u00fclhamidHan\", \n",
      "    \"promoted_content\": null\n",
      "   }, \n",
      "   {\n",
      "    \"url\": \"http://twitter.com/search?q=%23AnamBac%C4%B1mK%C4%B1z%C4%B1m%C4%B0%C3%A7inHAYIR\", \n",
      "    \"query\": \"%23AnamBac%C4%B1mK%C4%B1z%C4%B1m%C4%B0%C3%A7inHAYIR\", \n",
      "    \"tweet_volume\": null, \n",
      "    \"name\": \"#AnamBac\\u0131mK\\u0131z\\u0131m\\u0130\\u00e7inHAYIR\", \n",
      "    \"promoted_content\": null\n",
      "   }\n",
      "  ], \n",
      "  \"as_of\": \"2017-02-02T19:02:16Z\", \n",
      "  \"locations\": [\n",
      "   {\n",
      "    \"woeid\": 1, \n",
      "    \"name\": \"Worldwide\"\n",
      "   }\n",
      "  ]\n",
      " }\n",
      "]\n"
     ]
    }
   ],
   "source": [
    "# pythons JSON library\n",
    "import json\n",
    "\n",
    "print json.dumps(world_trends, indent=1)"
   ]
  },
  {
   "cell_type": "code",
   "execution_count": 29,
   "metadata": {
    "collapsed": true,
    "deletable": true,
    "editable": true
   },
   "outputs": [],
   "source": [
    "# we can use pythons set data structure (unordered collection of \n",
    "# unique items)\n",
    "cats = [\"Toby\", \"Fred\", \"Spot\", \"Fred\"]\n",
    "dogs = [\"Tom\", \"Spot\", \"Howard\"]\n",
    "cats = set(cats)\n",
    "dogs = set(dogs)"
   ]
  },
  {
   "cell_type": "code",
   "execution_count": 30,
   "metadata": {
    "collapsed": false,
    "deletable": true,
    "editable": true
   },
   "outputs": [
    {
     "name": "stdout",
     "output_type": "stream",
     "text": [
      "set(['Spot', 'Toby', 'Fred'])\n",
      "set(['Howard', 'Spot', 'Tom'])\n"
     ]
    }
   ],
   "source": [
    "print cats # Unique names\n",
    "print dogs"
   ]
  },
  {
   "cell_type": "code",
   "execution_count": 31,
   "metadata": {
    "collapsed": false,
    "deletable": true,
    "editable": true
   },
   "outputs": [
    {
     "data": {
      "text/plain": [
       "{'Spot'}"
      ]
     },
     "execution_count": 31,
     "metadata": {},
     "output_type": "execute_result"
    }
   ],
   "source": [
    "# great for indentifying commonality/differences between\n",
    "# collections of data\n",
    "dogs.intersection(cats)"
   ]
  },
  {
   "cell_type": "markdown",
   "metadata": {
    "deletable": true,
    "editable": true
   },
   "source": [
    "We will use *list comprehension* to *parse* out names and  \n",
    "trending topics and *cast* them into *sets*.\n",
    "\n",
    "Much time is spent converting from one data structure into another  \n",
    "and/or cleaning [suboptimal] data so that it fits into our desired  \n",
    "data structure.\n",
    "\n"
   ]
  },
  {
   "cell_type": "code",
   "execution_count": 35,
   "metadata": {
    "collapsed": true,
    "deletable": true,
    "editable": true
   },
   "outputs": [],
   "source": [
    "# computing intersection of two sets of trends\n",
    "world_trends_set = set([trend['name']\n",
    "                       for trend in world_trends[0]['trends']])\n",
    "us_trends_set = set([trend['name']\n",
    "                     for trend in us_trends[0]['trends']])\n",
    "nz_trends_set = set([trend['name']\n",
    "                     for trend in nz_trends[0]['trends']])"
   ]
  },
  {
   "cell_type": "code",
   "execution_count": 36,
   "metadata": {
    "collapsed": true,
    "deletable": true,
    "editable": true
   },
   "outputs": [],
   "source": [
    "common_trends = world_trends_set.intersection(us_trends_set)"
   ]
  },
  {
   "cell_type": "code",
   "execution_count": 37,
   "metadata": {
    "collapsed": false,
    "deletable": true,
    "editable": true
   },
   "outputs": [
    {
     "name": "stdout",
     "output_type": "stream",
     "text": [
      "set([u'Matthew McConaughey', u'#WhatBringsMeJoy', u'#KCAFavGlobalMusicStar', u'#ThursdayThoughts', u'#GroundhogDay', u'#RuVeal', u'Givenchy', u'#UnlimitedMoves'])\n"
     ]
    }
   ],
   "source": [
    "print common_trends"
   ]
  },
  {
   "cell_type": "code",
   "execution_count": 39,
   "metadata": {
    "collapsed": false,
    "deletable": true,
    "editable": true
   },
   "outputs": [
    {
     "name": "stdout",
     "output_type": "stream",
     "text": [
      "set([u'#FillonCharleville', u'Loco Abreu', u'#\\ubcf8\\uc778\\uc774_\\uac70\\uccd0\\uc628_\\ub355\\uc9c8_\\uacbd\\ub85c\\ub97c_\\ub9d0\\ud574\\ubcf4\\uc790', u'#MafiaSdvQueridoDiario', u'#\\u062a\\u0639\\u0637\\u0644_\\u0645\\u0648\\u0642\\u0639_\\u062c\\u0627\\u0645\\u0639\\u0647_\\u0627\\u0644\\u0627\\u0645\\u0627\\u0645', u'DIRECTIONER ATTACK', u'#\\u0627\\u0644\\u0647\\u0644\\u0627\\u0644_\\u0627\\u0644\\u0642\\u0627\\u062f\\u0633\\u064a\\u0647', u'#FelizJueves', u'#ateema', u'Arnold Schwarzenegger', u'#KCAEstrellaLatina', u'#CMRGHA', u'#Romeo', u'EMILLY DESTRUIDORA', u'#HappyKyuhyunDay', u'#pelisconprecinto', u'#\\u062a\\u0641\\u062a\\u0643\\u0631_\\u0647\\u0646\\u0641\\u0631\\u062d_\\u0627\\u0645\\u062a\\u0647', u'#dividetour', u'#BolsonaroPresidenteDaCamara', u'#NaoMeDeOpiniaoMeDe', u'#D\\xedaDeLaCandelaria', u'#\\u0627\\u0643\\u062b\\u0631_\\u0634\\u064a\\u0621_\\u064a\\u062c\\u0630\\u0628\\u0643_\\u0628\\u0634\\u0643\\u0644_\\u0627\\u0644\\u0631\\u062c\\u0644', u'#\\u0646\\u0641\\u0633\\u0643_\\u062a\\u062c\\u0631\\u0628_\\u0627\\u064a\\u0647', u'Od\\xedn S\\xe1nchez', u'#\\u062d\\u0641\\u0644_\\u0641\\u0646\\u0627\\u0646\\u0647_\\u0627\\u0644\\u0639\\u0631\\u0628_\\u0646\\u0648\\u0627\\u0644_mbc', u'#Rubi014', u'#FNBCSK', u'\\u064a\\u0627\\u0633\\u0631 \\u0627\\u0644\\u0634\\u0647\\u0631\\u0627\\u0646\\u064a', u'Hakan \\xc7alhano\\u011flu', u'#CarnaFlyNaRadioTang', u'#ElMuroSePagaConMaruchan', u'#Isibaya', u'Rodrigo Maia', u'#\\u0627\\u0646\\u0627_\\u0645\\u0639_\\u0627\\u0644\\u0646\\u0635\\u0631', u'#InesBrasilPresidente', u'#FebreroRebelde', u'#EnTwitterPeleanPor', u'#KCAFavMusicGroup', u'Frank Lampard', u'#KCAFavPinoyStar', u'#farketmeden', u'#BenimVatan\\u0131m'])\n"
     ]
    }
   ],
   "source": [
    "print world_trends_set.difference(us_trends_set)"
   ]
  },
  {
   "cell_type": "markdown",
   "metadata": {
    "deletable": true,
    "editable": true
   },
   "source": [
    "###Searching for tweets  \n",
    "So it's groundhog day! Lets see what is going on with the hashtag  \n",
    "#GroundhogDay\n"
   ]
  },
  {
   "cell_type": "code",
   "execution_count": 40,
   "metadata": {
    "collapsed": true,
    "deletable": true,
    "editable": true
   },
   "outputs": [],
   "source": [
    "q = \"#GroundhogDay\"\n",
    "\n",
    "count = 100\n",
    "\n",
    "search_results = twitter_api.search.tweets(q=q, count=count)"
   ]
  },
  {
   "cell_type": "code",
   "execution_count": 41,
   "metadata": {
    "collapsed": false,
    "deletable": true,
    "editable": true
   },
   "outputs": [
    {
     "name": "stdout",
     "output_type": "stream",
     "text": [
      "length of statuses 100\n",
      "length of statuses 200\n",
      "length of statuses 200\n",
      "{\n",
      " \"contributors\": null, \n",
      " \"truncated\": false, \n",
      " \"text\": \"#GroundhogDay #yes https://t.co/GhjYslDijX\", \n",
      " \"is_quote_status\": false, \n",
      " \"in_reply_to_status_id\": null, \n",
      " \"id\": 827248473607135234, \n",
      " \"favorite_count\": 0, \n",
      " \"entities\": {\n",
      "  \"symbols\": [], \n",
      "  \"user_mentions\": [], \n",
      "  \"hashtags\": [\n",
      "   {\n",
      "    \"indices\": [\n",
      "     0, \n",
      "     13\n",
      "    ], \n",
      "    \"text\": \"GroundhogDay\"\n",
      "   }, \n",
      "   {\n",
      "    \"indices\": [\n",
      "     14, \n",
      "     18\n",
      "    ], \n",
      "    \"text\": \"yes\"\n",
      "   }\n",
      "  ], \n",
      "  \"urls\": [], \n",
      "  \"media\": [\n",
      "   {\n",
      "    \"expanded_url\": \"https://twitter.com/rachelherendeen/status/827248473607135234/photo/1\", \n",
      "    \"display_url\": \"pic.twitter.com/GhjYslDijX\", \n",
      "    \"url\": \"https://t.co/GhjYslDijX\", \n",
      "    \"media_url_https\": \"https://pbs.twimg.com/media/C3r6GRzWQAACAmL.jpg\", \n",
      "    \"id_str\": \"827248467340836864\", \n",
      "    \"sizes\": {\n",
      "     \"large\": {\n",
      "      \"h\": 537, \n",
      "      \"resize\": \"fit\", \n",
      "      \"w\": 716\n",
      "     }, \n",
      "     \"small\": {\n",
      "      \"h\": 510, \n",
      "      \"resize\": \"fit\", \n",
      "      \"w\": 680\n",
      "     }, \n",
      "     \"medium\": {\n",
      "      \"h\": 537, \n",
      "      \"resize\": \"fit\", \n",
      "      \"w\": 716\n",
      "     }, \n",
      "     \"thumb\": {\n",
      "      \"h\": 150, \n",
      "      \"resize\": \"crop\", \n",
      "      \"w\": 150\n",
      "     }\n",
      "    }, \n",
      "    \"indices\": [\n",
      "     19, \n",
      "     42\n",
      "    ], \n",
      "    \"type\": \"photo\", \n",
      "    \"id\": 827248467340836864, \n",
      "    \"media_url\": \"http://pbs.twimg.com/media/C3r6GRzWQAACAmL.jpg\"\n",
      "   }\n",
      "  ]\n",
      " }, \n",
      " \"retweeted\": false, \n",
      " \"coordinates\": null, \n",
      " \"source\": \"<a href=\\\"http://twitter.com/download/iphone\\\" rel=\\\"nofollow\\\">Twitter for iPhone</a>\", \n",
      " \"in_reply_to_screen_name\": null, \n",
      " \"in_reply_to_user_id\": null, \n",
      " \"retweet_count\": 0, \n",
      " \"id_str\": \"827248473607135234\", \n",
      " \"favorited\": false, \n",
      " \"user\": {\n",
      "  \"follow_request_sent\": false, \n",
      "  \"has_extended_profile\": true, \n",
      "  \"profile_use_background_image\": true, \n",
      "  \"default_profile_image\": false, \n",
      "  \"id\": 788880523234017280, \n",
      "  \"profile_background_image_url_https\": null, \n",
      "  \"verified\": false, \n",
      "  \"translator_type\": \"none\", \n",
      "  \"profile_text_color\": \"333333\", \n",
      "  \"profile_image_url_https\": \"https://pbs.twimg.com/profile_images/799048560813703168/F_1vYVnt_normal.jpg\", \n",
      "  \"profile_sidebar_fill_color\": \"DDEEF6\", \n",
      "  \"entities\": {\n",
      "   \"description\": {\n",
      "    \"urls\": []\n",
      "   }\n",
      "  }, \n",
      "  \"followers_count\": 8, \n",
      "  \"profile_sidebar_border_color\": \"C0DEED\", \n",
      "  \"id_str\": \"788880523234017280\", \n",
      "  \"profile_background_color\": \"F5F8FA\", \n",
      "  \"listed_count\": 1, \n",
      "  \"is_translation_enabled\": false, \n",
      "  \"utc_offset\": null, \n",
      "  \"statuses_count\": 375, \n",
      "  \"description\": \"\", \n",
      "  \"friends_count\": 29, \n",
      "  \"location\": \"\", \n",
      "  \"profile_link_color\": \"1DA1F2\", \n",
      "  \"profile_image_url\": \"http://pbs.twimg.com/profile_images/799048560813703168/F_1vYVnt_normal.jpg\", \n",
      "  \"following\": false, \n",
      "  \"geo_enabled\": false, \n",
      "  \"profile_banner_url\": \"https://pbs.twimg.com/profile_banners/788880523234017280/1485643543\", \n",
      "  \"profile_background_image_url\": null, \n",
      "  \"screen_name\": \"rachelherendeen\", \n",
      "  \"lang\": \"en\", \n",
      "  \"profile_background_tile\": false, \n",
      "  \"favourites_count\": 367, \n",
      "  \"name\": \"Rachel Herendeen\", \n",
      "  \"notifications\": false, \n",
      "  \"url\": null, \n",
      "  \"created_at\": \"Wed Oct 19 23:12:28 +0000 2016\", \n",
      "  \"contributors_enabled\": false, \n",
      "  \"time_zone\": null, \n",
      "  \"protected\": false, \n",
      "  \"default_profile\": true, \n",
      "  \"is_translator\": false\n",
      " }, \n",
      " \"geo\": null, \n",
      " \"in_reply_to_user_id_str\": null, \n",
      " \"possibly_sensitive\": false, \n",
      " \"lang\": \"und\", \n",
      " \"created_at\": \"Thu Feb 02 20:13:00 +0000 2017\", \n",
      " \"in_reply_to_status_id_str\": null, \n",
      " \"place\": null, \n",
      " \"extended_entities\": {\n",
      "  \"media\": [\n",
      "   {\n",
      "    \"expanded_url\": \"https://twitter.com/rachelherendeen/status/827248473607135234/photo/1\", \n",
      "    \"display_url\": \"pic.twitter.com/GhjYslDijX\", \n",
      "    \"url\": \"https://t.co/GhjYslDijX\", \n",
      "    \"media_url_https\": \"https://pbs.twimg.com/media/C3r6GRzWQAACAmL.jpg\", \n",
      "    \"id_str\": \"827248467340836864\", \n",
      "    \"sizes\": {\n",
      "     \"large\": {\n",
      "      \"h\": 537, \n",
      "      \"resize\": \"fit\", \n",
      "      \"w\": 716\n",
      "     }, \n",
      "     \"small\": {\n",
      "      \"h\": 510, \n",
      "      \"resize\": \"fit\", \n",
      "      \"w\": 680\n",
      "     }, \n",
      "     \"medium\": {\n",
      "      \"h\": 537, \n",
      "      \"resize\": \"fit\", \n",
      "      \"w\": 716\n",
      "     }, \n",
      "     \"thumb\": {\n",
      "      \"h\": 150, \n",
      "      \"resize\": \"crop\", \n",
      "      \"w\": 150\n",
      "     }\n",
      "    }, \n",
      "    \"indices\": [\n",
      "     19, \n",
      "     42\n",
      "    ], \n",
      "    \"type\": \"photo\", \n",
      "    \"id\": 827248467340836864, \n",
      "    \"media_url\": \"http://pbs.twimg.com/media/C3r6GRzWQAACAmL.jpg\"\n",
      "   }\n",
      "  ]\n",
      " }, \n",
      " \"metadata\": {\n",
      "  \"iso_language_code\": \"und\", \n",
      "  \"result_type\": \"recent\"\n",
      " }\n",
      "}\n"
     ]
    }
   ],
   "source": [
    "statuses = search_results['statuses']\n",
    "\n",
    "# iterate through 5 batches of these results\n",
    "for _ in range(5):\n",
    "    print \"length of statuses\", len(statuses)\n",
    "    try:\n",
    "        # this is actually a function call to the twitter API\n",
    "        # asking for the next set of results\n",
    "        next_results = search_results['search_metadata']['next_results']\n",
    "    except KeyError, e:\n",
    "        # no more results\n",
    "        break\n",
    "        \n",
    "    kwargs = dict([ kv.split('=') \n",
    "                   for kv in next_results[1:].split(\"&\")])\n",
    "    search_results = twitter_api.search.tweets(**kwargs)\n",
    "    statuses += search_results['statuses']\n",
    "    \n",
    "# show one example by slicing a list\n",
    "print json.dumps(statuses[0], indent=1)\n",
    "    "
   ]
  },
  {
   "cell_type": "markdown",
   "metadata": {
    "deletable": true,
    "editable": true
   },
   "source": [
    "<img src=\"images/gday1.png\">"
   ]
  },
  {
   "cell_type": "markdown",
   "metadata": {
    "deletable": true,
    "editable": true
   },
   "source": [
    "Although a tweet is only 40 characters long, the API has actually given   \n",
    "us access to a wealth of other data about this tweet  \n",
    "....  \n",
    "\"source\": \"<a href=\\\"http://twitter.com/download/iphone\\\"   rel=\\\"nofollow\\\">Twitter for iPhone</a>\",  \n",
    "...  \n",
    "\"retweet_count\": 0,  \n",
    "...  \n",
    "\"profile_image_url_https\":   \"https://pbs.twimg.com/profile_images/7990xxxx3703168/F_1vYVnt_normal.jpg\"  \n",
    "...    \n",
    "\"followers_count\": 8,  \n",
    "etc  \n"
   ]
  },
  {
   "cell_type": "markdown",
   "metadata": {
    "deletable": true,
    "editable": true
   },
   "source": [
    "This metadata that comes with a tweet tells us something about  \n",
    "the conversation\n",
    "\n",
    "1)  How interesting this topic is (retweets and favourites)  \n",
    "2)  Who sent the tweet and when   \n",
    "3)  Did the author write this or just re-tweet  "
   ]
  },
  {
   "cell_type": "code",
   "execution_count": null,
   "metadata": {
    "collapsed": true,
    "deletable": true,
    "editable": true
   },
   "outputs": [],
   "source": [
    "\"text\": \"#GroundhogDay #yes https://t.co/GhjYslDijX\", \n",
    " \"is_quote_status\": false, \n",
    " \"in_reply_to_status_id\": null, \n",
    " \"id\": 827248473607135234, \n",
    " \"favorite_count\": 0, \n",
    " \"entities\": {\n",
    "  \"symbols\": [], \n",
    "  \"user_mentions\": [], \n",
    "  \"hashtags\": [\n",
    "   {\n",
    "    \"indices\": [\n",
    "     0, \n",
    "     13\n",
    "    ], \n",
    "    \"text\": \"GroundhogDay\"\n",
    "   }, \n",
    "   {\n",
    "    \"indices\": [\n",
    "     14, \n",
    "     18\n",
    "    ], \n",
    "    \"text\": \"yes\"\n",
    "   }\n",
    "  ], \n",
    "  \"urls\": [], \n",
    "  \"media\": [....."
   ]
  },
  {
   "cell_type": "code",
   "execution_count": 46,
   "metadata": {
    "collapsed": true,
    "deletable": true,
    "editable": true
   },
   "outputs": [],
   "source": [
    "status_texts = [ status['text']\n",
    "               for status in statuses]\n",
    "\n",
    "screen_names = [ user_mention['screen_name']\n",
    "               for status in statuses\n",
    "                   for user_mention in status['entities']['user_mentions']]\n",
    "\n",
    "hashtags = [ hashtag['text']\n",
    "           for status in statuses\n",
    "               for hashtag in status['entities']['hashtags']]"
   ]
  },
  {
   "cell_type": "code",
   "execution_count": 47,
   "metadata": {
    "collapsed": true,
    "deletable": true,
    "editable": true
   },
   "outputs": [],
   "source": [
    "# collection of all words from all tweets\n",
    "words = [w\n",
    "        for t in status_texts\n",
    "            for w in t.split()]"
   ]
  },
  {
   "cell_type": "code",
   "execution_count": 49,
   "metadata": {
    "collapsed": false,
    "deletable": true,
    "editable": true
   },
   "outputs": [
    {
     "name": "stdout",
     "output_type": "stream",
     "text": [
      "Status text\n",
      "[\n",
      " \"#GroundhogDay #yes https://t.co/GhjYslDijX\", \n",
      " \"Been so efficient clearing out years of paperwork, I have burnt out the shredder. Given what I found, great for #GroundhogDay #declutter\", \n",
      " \"#ProfitBeforePatriotism\\n#Trump &amp; GOP Block Legislation\\nCoal Mines to Protect\\nStreams&amp;Rivers\\nWHO'S GONNA PAY\\nAMERICA\\u2026 https://t.co/KjWuA7rRwS\", \n",
      " \"RT @accuchek_us: #SpareARose &amp; #GroundHogDay in the same post? Makes sense! As u think about 6 more wks of winter, consider giving 2 https:\\u2026\", \n",
      " \"RT @JaneSays10: American #Traitor @ChuckGrassley is the face of #treason.   #RussianHacking #FSB            #ThursdayThoughts #GroundhogDay\\u2026\"\n",
      "]\n",
      "Screen names\n",
      "[\n",
      " \"accuchek_us\", \n",
      " \"JaneSays10\", \n",
      " \"ChuckGrassley\", \n",
      " \"RealVoodooTrump\", \n",
      " \"MorrisAnimal\"\n",
      "]\n",
      "hashtags\n",
      "[\n",
      " \"GroundhogDay\", \n",
      " \"yes\", \n",
      " \"GroundhogDay\", \n",
      " \"declutter\", \n",
      " \"ProfitBeforePatriotism\"\n",
      "]\n",
      "words\n",
      "[\n",
      " \"#GroundhogDay\", \n",
      " \"#yes\", \n",
      " \"https://t.co/GhjYslDijX\", \n",
      " \"Been\", \n",
      " \"so\"\n",
      "]\n"
     ]
    }
   ],
   "source": [
    "# explore the frist 5 items from each....\n",
    "print \"Status text\"\n",
    "print json.dumps(status_texts[0:5], indent=1)\n",
    "print \"Screen names\"\n",
    "print json.dumps(screen_names[0:5], indent=1)\n",
    "print \"hashtags\"\n",
    "print json.dumps(hashtags[0:5], indent=1)\n",
    "print \"words\"\n",
    "print json.dumps(words[0:5], indent=1)"
   ]
  },
  {
   "cell_type": "markdown",
   "metadata": {
    "deletable": true,
    "editable": true
   },
   "source": [
    "But the above really is just getting a feel for the data  \n",
    "as we just grabbed the first five random entries. We can use the  \n",
    "*collections* library to carry out frequency analysis and look  \n",
    "at the distributions as randked lists of terms. This will tell us  \n",
    "\"what people are talking about *now*\""
   ]
  },
  {
   "cell_type": "code",
   "execution_count": 50,
   "metadata": {
    "collapsed": false,
    "deletable": true,
    "editable": true
   },
   "outputs": [
    {
     "name": "stdout",
     "output_type": "stream",
     "text": [
      "[(u'#GroundhogDay', 148), (u'RT', 147), (u'of', 55), (u'the', 43), (u'is', 38), (u'more', 35), (u'a', 35), (u'to', 31), (u'weeks', 28), (u'you', 28)]\n",
      "\n",
      "[(u'MarvelStudios', 11), (u'DrStrange', 11), (u'ElectricStarlet', 11), (u'NASASunEarth', 5), (u'PolToons', 4), (u'MLB_PLAYERS', 4), (u'MLBPAClubhouse', 4), (u'Wale', 4), (u'AUG_RickMcKee', 3), (u'ClimateReality', 3)]\n",
      "\n",
      "[(u'GroundhogDay', 188), (u'Eclipse2017', 5), (u'Punxsutawneyphil', 5), (u'groundhogday', 5), (u'DemocratLiesMatter', 4), (u'DontGetFooledAgain', 4), (u'GroundHogDay', 4), (u'ThursdayThoughts', 4), (u'ThrowbackThursday', 4), (u'entry', 4)]\n",
      "\n"
     ]
    }
   ],
   "source": [
    "from collections import Counter\n",
    "\n",
    "for item in [words, screen_names, hashtags]:\n",
    "    c = Counter(item)\n",
    "    print c.most_common()[:10] # top ten\n",
    "    print"
   ]
  },
  {
   "cell_type": "code",
   "execution_count": 53,
   "metadata": {
    "collapsed": false,
    "deletable": true,
    "editable": true
   },
   "outputs": [
    {
     "name": "stdout",
     "output_type": "stream",
     "text": [
      "+---------------+-------+\n",
      "|      Word     | Count |\n",
      "+---------------+-------+\n",
      "| #GroundhogDay |   148 |\n",
      "|       RT      |   147 |\n",
      "|       of      |    55 |\n",
      "|      the      |    43 |\n",
      "|       is      |    38 |\n",
      "|      more     |    35 |\n",
      "|       a       |    35 |\n",
      "|       to      |    31 |\n",
      "|     weeks     |    28 |\n",
      "|      you      |    28 |\n",
      "+---------------+-------+\n",
      "+-----------------+-------+\n",
      "|   Screen name   | Count |\n",
      "+-----------------+-------+\n",
      "|  MarvelStudios  |    11 |\n",
      "|    DrStrange    |    11 |\n",
      "| ElectricStarlet |    11 |\n",
      "|   NASASunEarth  |     5 |\n",
      "|     PolToons    |     4 |\n",
      "|   MLB_PLAYERS   |     4 |\n",
      "|  MLBPAClubhouse |     4 |\n",
      "|       Wale      |     4 |\n",
      "|  AUG_RickMcKee  |     3 |\n",
      "|  ClimateReality |     3 |\n",
      "+-----------------+-------+\n",
      "+--------------------+-------+\n",
      "|      Hashtag       | Count |\n",
      "+--------------------+-------+\n",
      "|    GroundhogDay    |   188 |\n",
      "|    Eclipse2017     |     5 |\n",
      "|  Punxsutawneyphil  |     5 |\n",
      "|    groundhogday    |     5 |\n",
      "| DemocratLiesMatter |     4 |\n",
      "| DontGetFooledAgain |     4 |\n",
      "|    GroundHogDay    |     4 |\n",
      "|  ThursdayThoughts  |     4 |\n",
      "| ThrowbackThursday  |     4 |\n",
      "|       entry        |     4 |\n",
      "+--------------------+-------+\n"
     ]
    }
   ],
   "source": [
    "# lets look at this in a table using pyton!\n",
    "from prettytable import PrettyTable\n",
    "\n",
    "for label, data in (('Word', words),\n",
    "                   ('Screen name', screen_names),\n",
    "                   ('Hashtag', hashtags)):\n",
    "    pt = PrettyTable(field_names=[label, 'Count'])\n",
    "    c = Counter(data)\n",
    "    [ pt.add_row(kv) for kv in c.most_common()[:10]]\n",
    "    # column and row alignment\n",
    "    pt.align['label'], pt.align['Count'] = 'l', 'r'\n",
    "    print pt"
   ]
  },
  {
   "cell_type": "code",
   "execution_count": 2,
   "metadata": {
    "collapsed": true,
    "deletable": true,
    "editable": true
   },
   "outputs": [],
   "source": [
    "# functions from the excellent book Mining the Social Web\n",
    "# support the author by buying the book!\n",
    "\n",
    "# http://shop.oreilly.com/product/0636920030195.do\n",
    "\n",
    "import twitter\n",
    "import time\n",
    "import sys\n",
    "from urllib2 import URLError\n",
    "from httplib import BadStatusLine\n",
    "import json\n",
    "\n",
    "def oauth_login():\n",
    "    # replace with your info\n",
    "    CONSUMER_KEY = ''\n",
    "    CONSUMER_SECRET = ''\n",
    "    OAUTH_TOKEN = ''\n",
    "    OAUTH_TOKEN_SECRET = ''\n",
    "    \n",
    "    auth = twitter.oauth.OAuth(OAUTH_TOKEN, OAUTH_TOKEN_SECRET, CONSUMER_KEY,\n",
    "                               CONSUMER_SECRET)\n",
    "\n",
    "    twitter_api = twitter.Twitter(auth=auth)\n",
    "    return twitter_api\n",
    "\n",
    "\n",
    "def make_twitter_request(twitter_api_func, max_errors=10, *args, **kw):\n",
    "    \n",
    "    def handle_twitter_http_error(e, wait_period=2, sleep_when_rate_limited=True):\n",
    "        \n",
    "        if wait_period > 3600: #seconds\n",
    "            print >> sys.stderr, 'Too many retires. Quiting'\n",
    "            raise e\n",
    "            \n",
    "        if e.e.code == 401:\n",
    "            print >> sys.stderr, 'Encountered 401 Error (not authorised)'\n",
    "            return None\n",
    "        elif e.e.code == 404:\n",
    "            print >> sys.stderr, 'Encountered 404 Error (Not Found)'\n",
    "            return None\n",
    "        elif e.e.code == 429:\n",
    "            print >> sys.stderr, 'Encountered 429 Error (rate limit Exceeded)'\n",
    "            if sleep_when_rate_limited:\n",
    "                print >> sys.stderr, \"Retrying in 15 minutes ...ZzZ...\"\n",
    "                sys.stderr.flush()\n",
    "                time.sleep(60*15 + 5)\n",
    "                print >> sys.stderr, \"...ZzZ...Awake now and trying again\"\n",
    "                return 2\n",
    "            else:\n",
    "                raise e # caller must handle the reate limiting issue\n",
    "                \n",
    "        elif e.e.code in (500, 502, 503, 504):\n",
    "            print >> sys.stderr, 'Encountered %i Error. Retrying in %i seconds' % \\\n",
    "            (e.e.code, wait_period)\n",
    "            time.sleep(wait_period)\n",
    "            wait_period *= 1.5\n",
    "            return wait_period\n",
    "        else:\n",
    "            raise e\n",
    "            \n",
    "    # end of nested helper func\n",
    "    \n",
    "    wait_period = 2\n",
    "    error_count = 0\n",
    "    \n",
    "    while True:\n",
    "        try:\n",
    "            return twitter_api_func(*args, **kw)\n",
    "        except twitter.api.TwitterHTTPError, e:\n",
    "            error_count = 0\n",
    "            wait_period = handle_twitter_http_error(e, wait_period)\n",
    "            if wait_period is None:\n",
    "                return\n",
    "        except URLError, e:\n",
    "            error_count += 1\n",
    "            print >> sys.stderr, \"URLError encountered. Continuing.\"\n",
    "            if error_count > max_errors:\n",
    "                print >> sys.stderr, \"To many conseq errors .... bailing out\"\n",
    "                raise\n",
    "            \n",
    "    \n",
    "\n",
    "\n",
    "def harvest_user_timeline(twitter_api, screen_name=None, \n",
    "                          user_id=None, max_results=1000):\n",
    "    '''get 16 pages of tweets for a uers'''\n",
    "    assert (screen_name != None) != (user_id != None), \\\n",
    "    \"Must have screen_name or user_id, but not both\"\n",
    "    \n",
    "    kw = { #keyword args for the twitter API callfn1\n",
    "    'count': 200,\n",
    "    'trim_user': 'true',\n",
    "    'include_rts': 'true',\n",
    "    'since_id': 1\n",
    "    }\n",
    "    \n",
    "    if screen_name:\n",
    "        kw['screen_name'] = screen_name\n",
    "    else:\n",
    "        kw['user_id'] = user_id\n",
    "        \n",
    "    max_pages = 16\n",
    "    results = []\n",
    "    \n",
    "    tweets = make_twitter_request(twitter_api.statuses.user_timeline, **kw)\n",
    "    \n",
    "    if tweets is None:\n",
    "        tweets = []\n",
    "        \n",
    "    results += tweets\n",
    "    \n",
    "    print >> sys.stderr, 'Fetched %i tweets' % len(tweets)\n",
    "    \n",
    "    page_num = 1\n",
    "    \n",
    "    if max_results == kw['count']:\n",
    "        page_num = max_pages # prevent loop entry\n",
    "        \n",
    "    while page_num < max_pages and len(tweets) > 0 and len(results) < max_results:\n",
    "        # need for twitter api 1.1\n",
    "        # get the next q max-id param to pass in.\n",
    "        # see https://dev.twitter.com/docs/working-with-timelines\n",
    "        kw['max_id'] = min([ tweet['id'] for tweet in tweets]) - 1\n",
    "        \n",
    "        tweets = make_twitter_request(twitter_api.statuses.user_timeline, **kw)\n",
    "        results += tweets\n",
    "        \n",
    "        print >> sys.stderr, 'Fetched %i tweets' % (len(tweets),)\n",
    "        \n",
    "        page_num += 1\n",
    "        \n",
    "    print >> sys.stderr, 'Done fetching tweets'\n",
    "    \n",
    "    return results[:max_results]\n",
    "\n",
    "\n",
    "def twitter_search(twitter_api, q, max_results=200, **kw):\n",
    "    '''Search twitter for given string, returns dict of tweetsfn1'''\n",
    "    search_results = twitter_api.search.tweets(q=q, count=100, **kw)\n",
    "    \n",
    "    statuses = search_results['statuses']\n",
    "    \n",
    "    #enforce reasonable limit\n",
    "    max_results = min(1000, max_results)\n",
    "    \n",
    "    for _ in range(10): #10*100 = 1000\n",
    "        try:\n",
    "            next_results = search_results['search_metadata']['next_results']\n",
    "        except KeyError, e:\n",
    "            break\n",
    "            \n",
    "        kwargs = dict([kv.split('=')\n",
    "                      for kv in next_results[1:].split(\"&\")])\n",
    "        \n",
    "        search_results = twitter_api.search.tweets(**kwargs)\n",
    "        statuses += search_results['statuses']\n",
    "        \n",
    "        if len(statuses) > max_results:\n",
    "            break\n",
    "            \n",
    "    return statuses\n",
    "\n",
    "\n",
    "def extract_tweet_entities(statuses):\n",
    "    '''extract screen names, hashtags, ursl, symbols from tweets'''\n",
    "    if len(statuses) == 0:\n",
    "        return [], [], [], [] , []\n",
    "    \n",
    "    screen_names = [ user_mention['screen_name']\n",
    "                    for status in statuses\n",
    "                    for user_mention in status['entities']['user_mentions']]\n",
    "    \n",
    "    hashtags = [hashtag['text'] \n",
    "                for status in statuses\n",
    "                for hashtag in status['entities']['hashtags']]\n",
    "    \n",
    "    urls = [url['expanded_url']\n",
    "           for status in statuses\n",
    "           for url in status['entities']['urls']]\n",
    "\n",
    "    \n",
    "    symbols = [ symbol['text']\n",
    "           for status in statuses\n",
    "           for symbol in status['entities']['symbols']]\n",
    "    \n",
    "    \n",
    "    media = []\n",
    "    #if status['entities'].has_key('media'):\n",
    "    #    media = [ media['url']\n",
    "    #            for status in statuses\n",
    "    #            for media in status['entities']['media']]\n",
    "    #else:\n",
    "    #    media = []\n",
    "        \n",
    "    return screen_names, hashtags, urls, symbols ,media\n",
    "\n",
    "# q = 'crossfit'\n",
    "#statuses = twitter_search(twitter_api, q)\n",
    "#a,b,c,d,e = extract_tweet_entities(statuses)\n",
    "\n",
    "#look at first 5 items\n",
    "#print json.dumps(a[0:5], indent=1)\n",
    "\n",
    "\n",
    "def analyze_tweet_content(statuses):\n",
    "    '''Calc lexical diversity of a users tweets'''\n",
    "    if len(statuses) == 0:\n",
    "        print \"No statuses to analyze\"\n",
    "        return\n",
    "    \n",
    "    # lexical diversity\n",
    "    def lexical_diversity(tokens):\n",
    "        return 1.0*len(set(tokens))/len(tokens)\n",
    "    \n",
    "    def average_words(statuses):\n",
    "        total_words = sum([ len(s.split()) for s in statuses ])\n",
    "        return 1.0*total_words/len(statuses)\n",
    "    \n",
    "    status_texts = [ status['text'] for status in statuses ]\n",
    "    screen_names, hashtags, urls, media, _ = extract_tweet_entities(statuses)\n",
    "    \n",
    "    # compute a collection of all words from all tweets\n",
    "    words = [ w\n",
    "            for t in status_texts\n",
    "            for w in t.split() ]\n",
    "    \n",
    "    print \"Lexical diversity (words):\", lexical_diversity(words)\n",
    "    print \"Lexical diversity (screen names):\", lexical_diversity(screen_names)\n",
    "    print \"Lexical diversity (hashtags):\", lexical_diversity(hashtags)\n",
    "    print \"Average words per tweet:\", average_words(status_texts)\n",
    "    \n",
    "    \n",
    "\n",
    "def save_to_jsonfile(data, fname):\n",
    "    '''Helper function to save twitter data in json format'''\n",
    "    obj = open(fname, 'wb')\n",
    "    json.dump(data, obj)\n",
    "    obj.close()\n",
    "\n",
    "    \n",
    "def load_from_jsonfile(fname):\n",
    "    '''Helper function to load twitter data from json format'''\n",
    "    obj = open(fname)\n",
    "    data = json.load(obj)\n",
    "    return data\n",
    "\n",
    "#sample usage\n",
    "#twitter_api = oauth_login()\n",
    "#tweets = harvest_user_timeline(twitter_api, screen_name='MasseyUni', \\\n",
    "#                              max_results=200)\n",
    "#obj = open('massey_data.txt', 'wb')\n",
    "#json.dump(tweets, obj)\n",
    "#obj.close()\n",
    "#time.sleep(10)"
   ]
  },
  {
   "cell_type": "markdown",
   "metadata": {
    "deletable": true,
    "editable": true
   },
   "source": [
    "Enough already! I thought we were going to talk about Donald Trump,  \n",
    "I can't get enough of him!"
   ]
  },
  {
   "cell_type": "code",
   "execution_count": 56,
   "metadata": {
    "collapsed": false,
    "deletable": true,
    "editable": true
   },
   "outputs": [
    {
     "name": "stderr",
     "output_type": "stream",
     "text": [
      "Fetched 200 tweets\n",
      "Fetched 200 tweets\n",
      "Fetched 200 tweets\n",
      "Fetched 200 tweets\n",
      "Fetched 200 tweets\n",
      "Done fetching tweets\n",
      "Fetched 200 tweets\n",
      "Fetched 200 tweets\n",
      "Fetched 200 tweets\n",
      "Fetched 200 tweets\n",
      "Fetched 200 tweets\n",
      "Done fetching tweets\n"
     ]
    }
   ],
   "source": [
    "# @realDonaldTrump\n",
    "twitter_api = oauth_login()\n",
    "\n",
    "trump_tweets = harvest_user_timeline(twitter_api, screen_name='realDonaldTrump', \\\n",
    "                               max_results=1000)\n",
    "obj = open('trump_data.txt', 'wb')\n",
    "json.dump(trump_tweets, obj)\n",
    "obj.close()\n",
    "\n",
    "# and lets not forget @BarackObama\n",
    "obama_tweets = harvest_user_timeline(twitter_api, screen_name='BarackObama', \\\n",
    "                               max_results=1000)\n",
    "obj = open('obama_data.txt', 'wb')\n",
    "json.dump(obama_tweets, obj)\n",
    "obj.close()"
   ]
  },
  {
   "cell_type": "code",
   "execution_count": 57,
   "metadata": {
    "collapsed": false,
    "deletable": true,
    "editable": true
   },
   "outputs": [
    {
     "data": {
      "text/plain": [
       "{u'contributors': None,\n",
       " u'coordinates': None,\n",
       " u'created_at': u'Thu Feb 02 17:29:16 +0000 2017',\n",
       " u'entities': {u'hashtags': [],\n",
       "  u'symbols': [],\n",
       "  u'urls': [{u'display_url': u'axios.com/trump-effect-s\\u2026',\n",
       "    u'expanded_url': u'https://www.axios.com/trump-effect-samsung-may-build-u-s-factory-2233101986.html',\n",
       "    u'indices': [48, 71],\n",
       "    u'url': u'https://t.co/r5nxC9oOA4'}],\n",
       "  u'user_mentions': [{u'id': 97610612,\n",
       "    u'id_str': u'97610612',\n",
       "    u'indices': [11, 19],\n",
       "    u'name': u'samsung',\n",
       "    u'screen_name': u'samsung'}]},\n",
       " u'favorite_count': 56583,\n",
       " u'favorited': False,\n",
       " u'geo': None,\n",
       " u'id': 827207267632164868,\n",
       " u'id_str': u'827207267632164868',\n",
       " u'in_reply_to_screen_name': None,\n",
       " u'in_reply_to_status_id': None,\n",
       " u'in_reply_to_status_id_str': None,\n",
       " u'in_reply_to_user_id': None,\n",
       " u'in_reply_to_user_id_str': None,\n",
       " u'is_quote_status': False,\n",
       " u'lang': u'en',\n",
       " u'place': None,\n",
       " u'possibly_sensitive': False,\n",
       " u'retweet_count': 12711,\n",
       " u'retweeted': False,\n",
       " u'source': u'<a href=\"http://twitter.com/download/iphone\" rel=\"nofollow\">Twitter for iPhone</a>',\n",
       " u'text': u'Thank you, @Samsung! We would love to have you! https://t.co/r5nxC9oOA4',\n",
       " u'truncated': False,\n",
       " u'user': {u'id': 25073877, u'id_str': u'25073877'}}"
      ]
     },
     "execution_count": 57,
     "metadata": {},
     "output_type": "execute_result"
    }
   ],
   "source": [
    "trump_tweets[0]"
   ]
  },
  {
   "cell_type": "code",
   "execution_count": 67,
   "metadata": {
    "collapsed": true,
    "deletable": true,
    "editable": true
   },
   "outputs": [],
   "source": [
    "# Does Trump ever talk about Obama?\n",
    "smtext = [status['text'] for status in trump_tweets\n",
    "          for user_mention in status['entities']['user_mentions']\n",
    "              if user_mention['screen_name']=='BarackObama']"
   ]
  },
  {
   "cell_type": "code",
   "execution_count": 68,
   "metadata": {
    "collapsed": false,
    "deletable": true,
    "editable": true
   },
   "outputs": [
    {
     "data": {
      "text/plain": [
       "[]"
      ]
     },
     "execution_count": 68,
     "metadata": {},
     "output_type": "execute_result"
    }
   ],
   "source": [
    "smtext"
   ]
  },
  {
   "cell_type": "code",
   "execution_count": 69,
   "metadata": {
    "collapsed": false,
    "deletable": true,
    "editable": true
   },
   "outputs": [
    {
     "name": "stdout",
     "output_type": "stream",
     "text": [
      "Lexical diversity (words): 0.32869508053\n",
      "Lexical diversity (screen names): 0.360856269113\n",
      "Lexical diversity (hashtags): 0.22602739726\n",
      "Average words per tweet: 18.254\n"
     ]
    }
   ],
   "source": [
    "analyze_tweet_content(trump_tweets)"
   ]
  },
  {
   "cell_type": "code",
   "execution_count": 70,
   "metadata": {
    "collapsed": false,
    "deletable": true,
    "editable": true
   },
   "outputs": [
    {
     "name": "stdout",
     "output_type": "stream",
     "text": [
      "Lexical diversity (words): 0.284128185718\n",
      "Lexical diversity (screen names): 0.235294117647\n",
      "Lexical diversity (hashtags): 0.163751987281\n",
      "Average words per tweet: 15.852\n"
     ]
    }
   ],
   "source": [
    "analyze_tweet_content(obama_tweets)"
   ]
  },
  {
   "cell_type": "code",
   "execution_count": 71,
   "metadata": {
    "collapsed": true,
    "deletable": true,
    "editable": true
   },
   "outputs": [],
   "source": [
    "screen_names_t, hashtags_t, urls_t, media_t, symbols_t = extract_tweet_entities(trump_tweets)"
   ]
  },
  {
   "cell_type": "code",
   "execution_count": 72,
   "metadata": {
    "collapsed": true,
    "deletable": true,
    "editable": true
   },
   "outputs": [],
   "source": [
    "screen_names_t, hashtags_o, urls_o, media_o, symbols_o = extract_tweet_entities(obama_tweets)"
   ]
  },
  {
   "cell_type": "code",
   "execution_count": 78,
   "metadata": {
    "collapsed": false,
    "deletable": true,
    "editable": true
   },
   "outputs": [
    {
     "name": "stdout",
     "output_type": "stream",
     "text": [
      "+-----------------------+-------+\n",
      "| Hashtags              | Count |\n",
      "+-----------------------+-------+\n",
      "| DrainTheSwamp         |    78 |\n",
      "| BigLeagueTruth        |    49 |\n",
      "| MAGA                  |    45 |\n",
      "| Debate                |    36 |\n",
      "| ICYMI                 |    18 |\n",
      "| MakeAmericaGreatAgain |    16 |\n",
      "| CrookedHillary        |    16 |\n",
      "| Debates               |    13 |\n",
      "| ThankYouTour2016      |    12 |\n",
      "| Debates2016           |    12 |\n",
      "+-----------------------+-------+\n"
     ]
    }
   ],
   "source": [
    "pt_trump = PrettyTable(field_names=['Hashtags','Count'])\n",
    "\n",
    "counter_trump = Counter(hashtags_t)\n",
    "[pt_trump.add_row(kv) for kv in counter_trump.most_common()[:10]]\n",
    "pt_trump.align['Hashtags'], pt_trump.align['Count'] = 'l', 'r' # set column aln\n",
    "\n",
    "print pt_trump\n"
   ]
  },
  {
   "cell_type": "code",
   "execution_count": 81,
   "metadata": {
    "collapsed": false,
    "deletable": true,
    "editable": true
   },
   "outputs": [
    {
     "name": "stdout",
     "output_type": "stream",
     "text": [
      "+--------------+-------+\n",
      "| Hashtags     | Count |\n",
      "+--------------+-------+\n",
      "| DoYourJob    |   150 |\n",
      "| ActOnClimate |   101 |\n",
      "| SOTU         |    63 |\n",
      "| SCOTUS       |    46 |\n",
      "| GetCovered   |    29 |\n",
      "| Obamacare    |    23 |\n",
      "| LoveIsLove   |    19 |\n",
      "| DisarmHate   |    11 |\n",
      "| LeadOnLeave  |    10 |\n",
      "| WearOrange   |     8 |\n",
      "+--------------+-------+\n"
     ]
    }
   ],
   "source": [
    "pt_obama = PrettyTable(field_names=['Hashtags','Count'])\n",
    "\n",
    "counter_obama = Counter(hashtags_o)\n",
    "[pt_obama.add_row(kv) for kv in counter_obama.most_common()[:10]]\n",
    "pt_obama.align['Hashtags'], pt_obama.align['Count'] = 'l', 'r' # set column aln\n",
    "\n",
    "print pt_obama\n"
   ]
  },
  {
   "cell_type": "code",
   "execution_count": 82,
   "metadata": {
    "collapsed": false,
    "deletable": true,
    "editable": true
   },
   "outputs": [],
   "source": [
    "import numpy\n",
    "def word_cloud(most_common):\n",
    "    data = []\n",
    "    \n",
    "    for name, count in most_common:\n",
    "        counter = 0\n",
    "        while counter < count:\n",
    "            data.append(name)\n",
    "            counter+=1\n",
    "                        \n",
    "    return data    "
   ]
  },
  {
   "cell_type": "code",
   "execution_count": 83,
   "metadata": {
    "collapsed": true,
    "deletable": true,
    "editable": true
   },
   "outputs": [],
   "source": [
    "trump_cloud = word_cloud(counter_trump.most_common()[1:21])\n",
    "obama_cloud = word_cloud(counter_obama.most_common()[1:21])"
   ]
  },
  {
   "cell_type": "code",
   "execution_count": 88,
   "metadata": {
    "collapsed": false,
    "deletable": true,
    "editable": true
   },
   "outputs": [],
   "source": [
    "# display images in notebook\n",
    "\n",
    "\n",
    "with open('trump_cloud.txt', 'w') as f:\n",
    "    [f.write(val+'\\n') for val in trump_cloud]    \n",
    "\n",
    "with open('obama_cloud.txt', 'w') as f:\n",
    "    [f.write(val+'\\n') for val in obama_cloud]\n",
    "    \n"
   ]
  },
  {
   "cell_type": "code",
   "execution_count": 89,
   "metadata": {
    "collapsed": false,
    "deletable": true,
    "editable": true
   },
   "outputs": [
    {
     "data": {
      "image/png": "[encoded data removed]",
      "text/plain": [
       "<matplotlib.figure.Figure at 0x7fe35419c790>"
      ]
     },
     "metadata": {},
     "output_type": "display_data"
    }
   ],
   "source": [
    "# Python rocks!\n",
    "# pip install wordcloud\n",
    "import matplotlib.pyplot as plt\n",
    "from wordcloud import WordCloud\n",
    "\n",
    "# ipython magic\n",
    "%matplotlib inline  \n",
    "\n",
    "# Read the whole text.\n",
    "text = open('trump_cloud.txt').read()\n",
    "wordcloud = WordCloud().generate(text)\n",
    "# Open a plot of the generated image.\n",
    "plt.imshow(wordcloud)\n",
    "plt.axis(\"off\")\n",
    "plt.show()"
   ]
  },
  {
   "cell_type": "code",
   "execution_count": 90,
   "metadata": {
    "collapsed": false,
    "deletable": true,
    "editable": true
   },
   "outputs": [
    {
     "data": {
      "image/png": "[encoded data removed]",
      "text/plain": [
       "<matplotlib.figure.Figure at 0x7fe32e8c2d50>"
      ]
     },
     "metadata": {},
     "output_type": "display_data"
    }
   ],
   "source": [
    "# Read the whole text.\n",
    "text = open('obama_cloud.txt').read()\n",
    "wordcloud = WordCloud().generate(text)\n",
    "# Open a plot of the generated image.\n",
    "plt.imshow(wordcloud)\n",
    "plt.axis(\"off\")\n",
    "plt.show()\n"
   ]
  },
  {
   "cell_type": "code",
   "execution_count": 142,
   "metadata": {
    "collapsed": false,
    "deletable": true,
    "editable": true
   },
   "outputs": [
    {
     "data": {
      "image/png": "[encoded data removed]",
      "text/plain": [
       "<matplotlib.figure.Figure at 0x7fe326640090>"
      ]
     },
     "metadata": {},
     "output_type": "display_data"
    }
   ],
   "source": [
    "# put them all on one plot\n",
    "fig, axes = plt.subplots(nrows=1, ncols=2)\n",
    "ax0, ax1 = axes.flat\n",
    "tcloud = WordCloud().generate(open('trump_cloud.txt').read())\n",
    "ocloud = WordCloud().generate(open('obama_cloud.txt').read())\n",
    "ax0.imshow(tcloud)\n",
    "ax0.set_title(\"Trump\")\n",
    "ax0.axis(\"off\")\n",
    "ax1.imshow(ocloud)\n",
    "ax1.set_title(\"Obama\")\n",
    "ax1.axis(\"off\")\n",
    "fig.tight_layout()\n",
    "fig.savefig(\"US pres.png\")"
   ]
  },
  {
   "cell_type": "markdown",
   "metadata": {
    "deletable": true,
    "editable": true
   },
   "source": [
    "What about our own politicans?  "
   ]
  },
  {
   "cell_type": "markdown",
   "metadata": {
    "deletable": true,
    "editable": true
   },
   "source": []
  },
  {
   "cell_type": "code",
   "execution_count": null,
   "metadata": {
    "collapsed": true,
    "deletable": true,
    "editable": true
   },
   "outputs": [],
   "source": []
  },
  {
   "cell_type": "code",
   "execution_count": 95,
   "metadata": {
    "collapsed": false,
    "deletable": true,
    "editable": true
   },
   "outputs": [],
   "source": [
    "import requests"
   ]
  },
  {
   "cell_type": "code",
   "execution_count": 98,
   "metadata": {
    "collapsed": false,
    "deletable": true,
    "editable": true
   },
   "outputs": [],
   "source": [
    "#page = requests.get('https://national.org.nz/team')\n",
    "#tree = html.fromstring()"
   ]
  },
  {
   "cell_type": "code",
   "execution_count": 99,
   "metadata": {
    "collapsed": false,
    "deletable": true,
    "editable": true
   },
   "outputs": [],
   "source": [
    "from bs4 import BeautifulSoup"
   ]
  },
  {
   "cell_type": "code",
   "execution_count": 100,
   "metadata": {
    "collapsed": false,
    "deletable": true,
    "editable": true
   },
   "outputs": [],
   "source": [
    "# save the nationsals page ('https://national.org.nz/team') to file using \n",
    "# an internet browser \n",
    "soup = BeautifulSoup(open('national.txt').read())"
   ]
  },
  {
   "cell_type": "code",
   "execution_count": 15,
   "metadata": {
    "collapsed": false,
    "deletable": true,
    "editable": true
   },
   "outputs": [
    {
     "name": "stdout",
     "output_type": "stream",
     "text": [
      "<h3>Rt Hon Bill English</h3>\n",
      "<h3>Hon Paula Bennett</h3>\n",
      "<h3>Hon Steven Joyce</h3>\n",
      "<h3>Hon Gerry Brownlee</h3>\n",
      "<h3>Hon Simon Bridges</h3>\n",
      "<h3>Hon Amy Adams</h3>\n",
      "<h3>Hon Dr Jonathan Coleman</h3>\n",
      "<h3>Hon Christopher Finlayson</h3>\n",
      "<h3>Hon Michael Woodhouse</h3>\n",
      "<h3>Hon Anne Tolley</h3>\n",
      "<h3>Hon Hekia Parata</h3>\n",
      "<h3>Hon Nathan Guy</h3>\n",
      "<h3>Hon Murray McCully</h3>\n",
      "<h3>Hon Nikki Kaye</h3>\n",
      "<h3>Hon Dr Nick Smith</h3>\n",
      "<h3>Hon Judith Collins</h3>\n",
      "<h3>Hon Todd McClay</h3>\n",
      "<h3>Hon Maggie Barry</h3>\n",
      "<h3>Hon Paul Goldsmith</h3>\n",
      "<h3>Hon Louise Upston</h3>\n",
      "<h3>Hon Alfred Ngaro</h3>\n",
      "<h3>Hon Nicky Wagner</h3>\n",
      "<h3>Hon Mark Mitchell</h3>\n",
      "<h3>Hon Jacqui Dean</h3>\n",
      "<h3>Hon David Bennett</h3>\n",
      "<h3>Rt Hon David Carter</h3>\n",
      "<h3>Hon Chester Borrows</h3>\n",
      "<h3>Lindsay Tisch</h3>\n",
      "<h3>Tim Macindoe</h3>\n",
      "<h3>Jami-Lee Ross</h3>\n",
      "<h3>Jo Hayes</h3>\n",
      "<h3>Rt Hon John Key</h3>\n",
      "<h3>Peseta Sam Lotu-Iiga</h3>\n",
      "<h3>Craig Foss</h3>\n",
      "<h3>Jo Goodhew</h3>\n",
      "<h3>Melissa Lee</h3>\n",
      "<h3>Kanwaljit Singh Bakshi</h3>\n",
      "<h3>Dr Jian Yang</h3>\n",
      "<h3>Hon Maurice Williamson</h3>\n",
      "<h3>Jonathan Young</h3>\n",
      "<h3>Brett Hudson</h3>\n",
      "<h3>Ian McKelvie</h3>\n",
      "<h3>Simon O'Connor</h3>\n",
      "<h3>Scott Simpson</h3>\n",
      "<h3>Paul Foster-Bell</h3>\n",
      "<h3>Dr Parmjeet Parmar</h3>\n",
      "<h3>Chris Bishop</h3>\n",
      "<h3>Tutehounuku (Nuk) Korako</h3>\n",
      "<h3>Jono Naylor</h3>\n",
      "<h3>Todd Barclay</h3>\n",
      "<h3>Andrew Bayly</h3>\n",
      "<h3>Matt Doocey</h3>\n",
      "<h3>Sarah Dowie</h3>\n",
      "<h3>Barbara Kuriger</h3>\n",
      "<h3>Todd Muller</h3>\n",
      "<h3>Dr Shane Reti</h3>\n",
      "<h3>Alastair Scott</h3>\n",
      "<h3>Stuart Smith</h3>\n",
      "<h3>Maureen Pugh</h3>\n"
     ]
    }
   ],
   "source": [
    "# All the names are in h3 HTML elements!\n",
    "for h3 in soup.findAll(\"h3\"):\n",
    "    print repr(h3)"
   ]
  },
  {
   "cell_type": "code",
   "execution_count": 101,
   "metadata": {
    "collapsed": false,
    "deletable": true,
    "editable": true
   },
   "outputs": [],
   "source": [
    "national_members = []\n",
    "for h3 in soup.findAll(\"h3\"):\n",
    "    national_members.append(h3.contents[0])\n",
    "    "
   ]
  },
  {
   "cell_type": "code",
   "execution_count": 103,
   "metadata": {
    "collapsed": false,
    "deletable": true,
    "editable": true
   },
   "outputs": [
    {
     "data": {
      "text/plain": [
       "[u'Rt Hon Bill English',\n",
       " u'Hon Paula Bennett',\n",
       " u'Hon Steven Joyce',\n",
       " u'Hon Gerry Brownlee',\n",
       " u'Hon Simon Bridges',\n",
       " u'Hon Amy Adams',\n",
       " u'Hon Dr Jonathan Coleman',\n",
       " u'Hon Christopher Finlayson',\n",
       " u'Hon Michael Woodhouse',\n",
       " u'Hon Anne Tolley']"
      ]
     },
     "execution_count": 103,
     "metadata": {},
     "output_type": "execute_result"
    }
   ],
   "source": [
    "national_members[:10]"
   ]
  },
  {
   "cell_type": "code",
   "execution_count": 121,
   "metadata": {
    "collapsed": false,
    "deletable": true,
    "editable": true
   },
   "outputs": [
    {
     "name": "stderr",
     "output_type": "stream",
     "text": [
      "Fetched 200 tweets\n",
      "Fetched 200 tweets\n",
      "Fetched 200 tweets\n",
      "Fetched 68 tweets\n",
      "Fetched 0 tweets\n",
      "Done fetching tweets\n"
     ]
    }
   ],
   "source": [
    "bill_tweets = harvest_user_timeline(twitter_api, screen_name='pmbillenglish', \\\n",
    "                               max_results=1000)\n",
    "obj = open('bill_data.txt', 'wb')\n",
    "json.dump(bill_tweets, obj)\n",
    "obj.close()\n"
   ]
  },
  {
   "cell_type": "code",
   "execution_count": 122,
   "metadata": {
    "collapsed": true,
    "deletable": true,
    "editable": true
   },
   "outputs": [],
   "source": [
    "screen_names_b, hashtags_b, urls_b, media_b, symbols_b = extract_tweet_entities(bill_tweets)"
   ]
  },
  {
   "cell_type": "code",
   "execution_count": 130,
   "metadata": {
    "collapsed": false,
    "deletable": true,
    "editable": true
   },
   "outputs": [
    {
     "data": {
      "text/plain": [
       "[u'NZNationalParty',\n",
       " u'NZNationalParty',\n",
       " u'NZNationalParty',\n",
       " u'pmbillenglish',\n",
       " u'LiamMalone93',\n",
       " u'nikkikaye',\n",
       " u'stuartsmithmp',\n",
       " u'NZNationalParty',\n",
       " u'pmbillenglish',\n",
       " u'simonjbridges']"
      ]
     },
     "execution_count": 130,
     "metadata": {},
     "output_type": "execute_result"
    }
   ],
   "source": [
    "screen_names_b[:10]"
   ]
  },
  {
   "cell_type": "code",
   "execution_count": 133,
   "metadata": {
    "collapsed": false,
    "deletable": true,
    "editable": true
   },
   "outputs": [
    {
     "data": {
      "text/plain": [
       "[u'LISTEN',\n",
       " u'AUS',\n",
       " u'NZ',\n",
       " u'ANZIP',\n",
       " u'Townsville',\n",
       " u'Bainimarama',\n",
       " u'WaterfrontStadium',\n",
       " u'steakandcheese',\n",
       " u'economy',\n",
       " u'NZ']"
      ]
     },
     "execution_count": 133,
     "metadata": {},
     "output_type": "execute_result"
    }
   ],
   "source": [
    "hashtags_b[:10]"
   ]
  },
  {
   "cell_type": "code",
   "execution_count": 134,
   "metadata": {
    "collapsed": false,
    "deletable": true,
    "editable": true
   },
   "outputs": [
    {
     "data": {
      "image/png": "[encoded data removed]",
      "text/plain": [
       "<matplotlib.figure.Figure at 0x7fe3268bf110>"
      ]
     },
     "metadata": {},
     "output_type": "display_data"
    }
   ],
   "source": [
    "counter_bill = Counter(hashtags_b)\n",
    "bill_cloud = word_cloud(counter_bill.most_common()[1:21])\n",
    "with open('bill_cloud.txt', 'w') as f:\n",
    "    [f.write(val+'\\n') for val in bill_cloud] \n",
    "\n",
    "text = open('bill_cloud.txt').read()\n",
    "wordcloud = WordCloud().generate(text)\n",
    "# Open a plot of the generated image.\n",
    "plt.imshow(wordcloud)\n",
    "plt.axis(\"off\")\n",
    "plt.title(\"Bill\")\n",
    "plt.show()"
   ]
  },
  {
   "cell_type": "code",
   "execution_count": 135,
   "metadata": {
    "collapsed": false,
    "deletable": true,
    "editable": true
   },
   "outputs": [
    {
     "name": "stderr",
     "output_type": "stream",
     "text": [
      "Fetched 200 tweets\n",
      "Fetched 200 tweets\n",
      "Fetched 200 tweets\n",
      "Fetched 200 tweets\n",
      "Fetched 200 tweets\n",
      "Done fetching tweets\n"
     ]
    }
   ],
   "source": [
    "little_tweets = harvest_user_timeline(twitter_api, screen_name='AndrewLittleMP', \\\n",
    "                               max_results=1000)\n",
    "\n"
   ]
  },
  {
   "cell_type": "code",
   "execution_count": 136,
   "metadata": {
    "collapsed": true,
    "deletable": true,
    "editable": true
   },
   "outputs": [],
   "source": [
    "obj = open('little_data.txt', 'wb')\n",
    "json.dump(little_tweets, obj)\n",
    "obj.close()\n",
    "\n",
    "screen_names_l, hashtags_l, urls_l, media_l, symbols_l = extract_tweet_entities(little_tweets)"
   ]
  },
  {
   "cell_type": "code",
   "execution_count": 139,
   "metadata": {
    "collapsed": false,
    "deletable": true,
    "editable": true
   },
   "outputs": [
    {
     "data": {
      "image/png": "[encoded data removed]",
      "text/plain": [
       "<matplotlib.figure.Figure at 0x7fe3266c9750>"
      ]
     },
     "metadata": {},
     "output_type": "display_data"
    }
   ],
   "source": [
    "counter_little = Counter(hashtags_l)\n",
    "little_cloud = word_cloud(counter_little.most_common()[1:21])\n",
    "with open('little_cloud.txt', 'w') as f:\n",
    "    [f.write(val+'\\n') for val in little_cloud] \n",
    "\n",
    "fig, axes = plt.subplots(nrows=1, ncols=2)\n",
    "ax0, ax1 = axes.flat\n",
    "bcloud = WordCloud().generate(open('bill_cloud.txt').read())\n",
    "lcloud = WordCloud().generate(open('little_cloud.txt').read())\n",
    "ax0.imshow(bcloud)\n",
    "ax0.set_title(\"Bill\")\n",
    "ax0.axis(\"off\")\n",
    "ax1.imshow(lcloud)\n",
    "ax1.set_title(\"Little\")\n",
    "ax1.axis(\"off\")\n",
    "fig.tight_layout()"
   ]
  },
  {
   "cell_type": "code",
   "execution_count": 140,
   "metadata": {
    "collapsed": true,
    "deletable": true,
    "editable": true
   },
   "outputs": [],
   "source": [
    "fig.savefig(\"NZ_leaders.png\")"
   ]
  },
  {
   "cell_type": "markdown",
   "metadata": {
    "deletable": true,
    "editable": true
   },
   "source": [
    "Finally myself! @dwheelerau"
   ]
  },
  {
   "cell_type": "code",
   "execution_count": 143,
   "metadata": {
    "collapsed": false,
    "deletable": true,
    "editable": true
   },
   "outputs": [
    {
     "name": "stderr",
     "output_type": "stream",
     "text": [
      "Fetched 200 tweets\n",
      "Fetched 198 tweets\n",
      "Fetched 196 tweets\n",
      "Fetched 199 tweets\n",
      "Fetched 196 tweets\n",
      "Fetched 200 tweets\n",
      "Done fetching tweets\n"
     ]
    }
   ],
   "source": [
    "my_tweets = harvest_user_timeline(twitter_api, screen_name='dwheelerau', \\\n",
    "                               max_results=1000)\n",
    "\n",
    "obj = open('my_data.txt', 'wb')\n",
    "json.dump(my_tweets, obj)\n",
    "obj.close()"
   ]
  },
  {
   "cell_type": "code",
   "execution_count": 144,
   "metadata": {
    "collapsed": true,
    "deletable": true,
    "editable": true
   },
   "outputs": [],
   "source": [
    "screen_names_dw, hashtags_dw, urls_dw, media_dw, symbols_dw = extract_tweet_entities(my_tweets)"
   ]
  },
  {
   "cell_type": "code",
   "execution_count": 147,
   "metadata": {
    "collapsed": false,
    "deletable": true,
    "editable": true
   },
   "outputs": [
    {
     "data": {
      "image/png": "[encoded data removed]",
      "text/plain": [
       "<matplotlib.figure.Figure at 0x7fe325ecb790>"
      ]
     },
     "metadata": {},
     "output_type": "display_data"
    }
   ],
   "source": [
    "counter_dw = Counter(hashtags_dw)\n",
    "dw_cloud = word_cloud(counter_dw.most_common()[1:21])\n",
    "with open('dw_cloud.txt', 'w') as f:\n",
    "    [f.write(val+'\\n') for val in dw_cloud] \n",
    "\n",
    "text = open('dw_cloud.txt').read()\n",
    "wordcloud = WordCloud().generate(text)\n",
    "# Open a plot of the generated image.\n",
    "plt.imshow(wordcloud)\n",
    "plt.axis(\"off\")\n",
    "plt.title(\"Dave\")\n",
    "plt.show()\n",
    "fig.savefig(\"dave_clound.png\")"
   ]
  },
  {
   "cell_type": "markdown",
   "metadata": {
    "deletable": true,
    "editable": true
   },
   "source": [
    "To be fair these are not based on very big numbers  "
   ]
  },
  {
   "cell_type": "code",
   "execution_count": 150,
   "metadata": {
    "collapsed": false,
    "deletable": true,
    "editable": true
   },
   "outputs": [
    {
     "name": "stdout",
     "output_type": "stream",
     "text": [
      "+-----------------+-------+\n",
      "| Hashtags        | Count |\n",
      "+-----------------+-------+\n",
      "| atheist         |     7 |\n",
      "| bioinformatics  |     6 |\n",
      "| phdchat         |     5 |\n",
      "| evolution       |     5 |\n",
      "| RWC2015         |     5 |\n",
      "| atheism         |     5 |\n",
      "| RIPGoughWhitlam |     4 |\n",
      "| science         |     4 |\n",
      "| JeSuisCharlie   |     4 |\n",
      "| CharlieHebdo    |     4 |\n",
      "+-----------------+-------+\n"
     ]
    }
   ],
   "source": [
    "pt_dw = PrettyTable(field_names=['Hashtags','Count'])\n",
    "\n",
    "[pt_dw.add_row(kv) for kv in counter_dw.most_common()[:10]]\n",
    "pt_dw.align['Hashtags'], pt_dw.align['Count'] = 'l', 'r' # set column aln\n",
    "\n",
    "print pt_dw"
   ]
  },
  {
   "cell_type": "code",
   "execution_count": null,
   "metadata": {
    "collapsed": true,
    "deletable": true,
    "editable": true
   },
   "outputs": [],
   "source": [
    "def extract_my_tweets(statuses):\n",
    "    \n",
    "    if len(statuses) == 0:\n",
    "        return []\n",
    "    \n",
    "    followers = [ user_mention['screen_name']\n",
    "                    for status in statuses\n",
    "                    for user_mention in status['entities']['user_mentions']]\n",
    "    \n",
    "    return screen_names, hashtags, urls, symbols ,media\n"
   ]
  },
  {
   "cell_type": "code",
   "execution_count": 151,
   "metadata": {
    "collapsed": false,
    "deletable": true,
    "editable": true
   },
   "outputs": [
    {
     "data": {
      "text/plain": [
       "{u'contributors': None,\n",
       " u'coordinates': None,\n",
       " u'created_at': u'Wed Jan 11 20:11:43 +0000 2017',\n",
       " u'entities': {u'hashtags': [],\n",
       "  u'symbols': [],\n",
       "  u'urls': [{u'display_url': u'tylervigen.com/spurious-corre\\u2026',\n",
       "    u'expanded_url': u'http://tylervigen.com/spurious-correlations',\n",
       "    u'indices': [27, 50],\n",
       "    u'url': u'https://t.co/MZD142xemj'}],\n",
       "  u'user_mentions': []},\n",
       " u'favorite_count': 0,\n",
       " u'favorited': False,\n",
       " u'geo': None,\n",
       " u'id': 819275618973925376,\n",
       " u'id_str': u'819275618973925376',\n",
       " u'in_reply_to_screen_name': None,\n",
       " u'in_reply_to_status_id': None,\n",
       " u'in_reply_to_status_id_str': None,\n",
       " u'in_reply_to_user_id': None,\n",
       " u'in_reply_to_user_id_str': None,\n",
       " u'is_quote_status': False,\n",
       " u'lang': u'en',\n",
       " u'place': {u'attributes': {},\n",
       "  u'bounding_box': {u'coordinates': [[[175.497335, -40.529685],\n",
       "     [175.790592, -40.529685],\n",
       "     [175.790592, -40.268077],\n",
       "     [175.497335, -40.268077]]],\n",
       "   u'type': u'Polygon'},\n",
       "  u'contained_within': [],\n",
       "  u'country': u'New Zealand',\n",
       "  u'country_code': u'NZ',\n",
       "  u'full_name': u'Palmerston North City, New Zealand',\n",
       "  u'id': u'0086f0f416ab5478',\n",
       "  u'name': u'Palmerston North City',\n",
       "  u'place_type': u'city',\n",
       "  u'url': u'https://api.twitter.com/1.1/geo/id/0086f0f416ab5478.json'},\n",
       " u'possibly_sensitive': False,\n",
       " u'retweet_count': 0,\n",
       " u'retweeted': False,\n",
       " u'source': u'<a href=\"http://twitter.com/download/android\" rel=\"nofollow\">Twitter for Android</a>',\n",
       " u'text': u\"Here's to you metagenomics https://t.co/MZD142xemj\",\n",
       " u'truncated': False,\n",
       " u'user': {u'id': 23716812, u'id_str': u'23716812'}}"
      ]
     },
     "execution_count": 151,
     "metadata": {},
     "output_type": "execute_result"
    }
   ],
   "source": [
    "my_tweets[0]"
   ]
  },
  {
   "cell_type": "code",
   "execution_count": null,
   "metadata": {
    "collapsed": false,
    "deletable": true,
    "editable": true
   },
   "outputs": [],
   "source": [
    "\n"
   ]
  },
  {
   "cell_type": "code",
   "execution_count": null,
   "metadata": {
    "collapsed": false,
    "deletable": true,
    "editable": true
   },
   "outputs": [],
   "source": []
  },
  {
   "cell_type": "code",
   "execution_count": 168,
   "metadata": {
    "collapsed": false,
    "deletable": true,
    "editable": true
   },
   "outputs": [],
   "source": [
    "twitter_api = twitter.Twitter(auth=auth)\n",
    "\n"
   ]
  },
  {
   "cell_type": "code",
   "execution_count": 177,
   "metadata": {
    "collapsed": false,
    "deletable": true,
    "editable": true
   },
   "outputs": [],
   "source": [
    "!mkdir following"
   ]
  },
  {
   "cell_type": "code",
   "execution_count": 3,
   "metadata": {
    "collapsed": false,
    "deletable": true,
    "editable": true
   },
   "outputs": [
    {
     "ename": "ImportError",
     "evalue": "No module named tweepy",
     "output_type": "error",
     "traceback": [
      "\u001b[0;31m---------------------------------------------------------------------------\u001b[0m",
      "\u001b[0;31mImportError\u001b[0m                               Traceback (most recent call last)",
      "\u001b[0;32m<ipython-input-3-c625413ae55f>\u001b[0m in \u001b[0;36m<module>\u001b[0;34m()\u001b[0m\n\u001b[1;32m      1\u001b[0m \u001b[0;31m# code from https://gist.githubusercontent.com/mjcreativeventures/41de04c6bbe47ee14411/raw/b6309a69f450bcee0b56804e593968c5b5c6386e/get_followers.py\u001b[0m\u001b[0;34m\u001b[0m\u001b[0;34m\u001b[0m\u001b[0m\n\u001b[1;32m      2\u001b[0m \u001b[0;34m\u001b[0m\u001b[0m\n\u001b[0;32m----> 3\u001b[0;31m \u001b[0;32mimport\u001b[0m \u001b[0mtweepy\u001b[0m\u001b[0;34m\u001b[0m\u001b[0m\n\u001b[0m\u001b[1;32m      4\u001b[0m \u001b[0;32mimport\u001b[0m \u001b[0mtime\u001b[0m\u001b[0;34m\u001b[0m\u001b[0m\n\u001b[1;32m      5\u001b[0m \u001b[0;32mimport\u001b[0m \u001b[0mos\u001b[0m\u001b[0;34m\u001b[0m\u001b[0m\n",
      "\u001b[0;31mImportError\u001b[0m: No module named tweepy"
     ]
    }
   ],
   "source": [
    "# code from https://gist.githubusercontent.com/mjcreativeventures/41de04c6bbe47ee14411/raw/b6309a69f450bcee0b56804e593968c5b5c6386e/get_followers.py\n",
    "\n",
    "import tweepy\n",
    "import time\n",
    "import os\n",
    "import sys\n",
    "import json\n",
    "import argparse\n",
    "\n",
    "FOLLOWING_DIR = 'following'\n",
    "MAX_FRIENDS = 200\n",
    "FRIENDS_OF_FRIENDS_LIMIT = 200\n",
    "\n",
    "#if not os.path.exists(FOLLOWING_DIR):\n",
    "#    os.makedir(FOLLOWING_DIR)\n",
    "\n",
    "enc = lambda x: x.encode('ascii', errors='ignore')\n",
    "\n",
    "CONSUMER_KEY = ''\n",
    "CONSUMER_SECRET = ''\n",
    "ACCESS_TOKEN = ''\n",
    "ACCESS_TOKEN_SECRET = ''\n",
    "\n",
    "# == OAuth Authentication ==\n",
    "#\n",
    "# This mode of authentication is the new preferred way\n",
    "# of authenticating with Twitter.\n",
    "auth = tweepy.OAuthHandler(CONSUMER_KEY, CONSUMER_SECRET)\n",
    "auth.set_access_token(ACCESS_TOKEN, ACCESS_TOKEN_SECRET)\n",
    "\n",
    "api = tweepy.API(auth)\n",
    "\n",
    "def get_follower_ids(centre, max_depth=1, current_depth=0, taboo_list=[]):\n",
    "\n",
    "    # print 'current depth: %d, max depth: %d' % (current_depth, max_depth)\n",
    "    # print 'taboo list: ', ','.join([ str(i) for i in taboo_list ])\n",
    "\n",
    "    if current_depth == max_depth:\n",
    "        print 'out of depth'\n",
    "        return taboo_list\n",
    "\n",
    "    if centre in taboo_list:\n",
    "        # we've been here before\n",
    "        print 'Already been here.'\n",
    "        return taboo_list\n",
    "    else:\n",
    "        taboo_list.append(centre)\n",
    "\n",
    "    try:\n",
    "        userfname = os.path.join('twitter-users', str(centre) + '.json')\n",
    "        if not os.path.exists(userfname):\n",
    "            print 'Retrieving user details for twitter id %s' % str(centre)\n",
    "            while True:\n",
    "                try:\n",
    "                    user = api.get_user(centre)\n",
    "\n",
    "                    d = {'name': user.name,\n",
    "                         'screen_name': user.screen_name,\n",
    "                         'id': user.id,\n",
    "                         'friends_count': user.friends_count,\n",
    "                         'followers_count': user.followers_count,\n",
    "                         'followers_ids': user.followers_ids()}\n",
    "\n",
    "                    with open(userfname, 'w') as outf:\n",
    "                        outf.write(json.dumps(d, indent=1))\n",
    "\n",
    "                    user = d\n",
    "                    break\n",
    "                except tweepy.TweepError, error:\n",
    "                    print type(error)\n",
    "\n",
    "                    if str(error) == 'Not authorized.':\n",
    "                        print 'Can''t access user data - not authorized.'\n",
    "                        return taboo_list\n",
    "\n",
    "                    if str(error) == 'User has been suspended.':\n",
    "                        print 'User suspended.'\n",
    "                        return taboo_list\n",
    "\n",
    "                    errorObj = error[0][0]\n",
    "\n",
    "                    print errorObj\n",
    "\n",
    "                    if errorObj['message'] == 'Rate limit exceeded':\n",
    "                        print 'Rate limited. Sleeping for 15 minutes.'\n",
    "                        time.sleep(15 * 60 + 15)\n",
    "                        continue\n",
    "\n",
    "                    return taboo_list\n",
    "        else:\n",
    "            user = json.loads(file(userfname).read())\n",
    "\n",
    "        screen_name = enc(user['screen_name'])\n",
    "        fname = os.path.join(FOLLOWING_DIR, screen_name + '.csv')\n",
    "        friendids = []\n",
    "\n",
    "        # only retrieve friends of TED... screen names\n",
    "        if screen_name.startswith('TED'):\n",
    "            if not os.path.exists(fname):\n",
    "                print 'No cached data for screen name \"%s\"' % screen_name\n",
    "                with open(fname, 'w') as outf:\n",
    "                    params = (enc(user['name']), screen_name)\n",
    "                    print 'Retrieving friends for user \"%s\" (%s)' % params\n",
    "\n",
    "                    # page over friends\n",
    "                    c = tweepy.Cursor(api.friends, id=user['id']).items()\n",
    "\n",
    "                    friend_count = 0\n",
    "                    while True:\n",
    "                        try:\n",
    "                            friend = c.next()\n",
    "                            friendids.append(friend.id)\n",
    "                            params = (friend.id, enc(friend.screen_name), enc(friend.name))\n",
    "                            outf.write('%s\\t%s\\t%s\\n' % params)\n",
    "                            friend_count += 1\n",
    "                            if friend_count >= MAX_FRIENDS:\n",
    "                                print 'Reached max no. of friends for \"%s\".' % friend.screen_name\n",
    "                                break\n",
    "                        except tweepy.TweepError:\n",
    "                            # hit rate limit, sleep for 15 minutes\n",
    "                            print 'Rate limited. Sleeping for 15 minutes.'\n",
    "                            time.sleep(15 * 60 + 15)\n",
    "                            continue\n",
    "                        except StopIteration:\n",
    "                            break\n",
    "            else:\n",
    "                friendids = [int(line.strip().split('\\t')[0]) for line in file(fname)]\n",
    "\n",
    "            print 'Found %d friends for %s' % (len(friendids), screen_name)\n",
    "\n",
    "            # get friends of friends\n",
    "            cd = current_depth\n",
    "            if cd+1 < max_depth:\n",
    "                for fid in friendids[:FRIENDS_OF_FRIENDS_LIMIT]:\n",
    "                    taboo_list = get_follower_ids(fid, max_depth=max_depth,\n",
    "                        current_depth=cd+1, taboo_list=taboo_list)\n",
    "\n",
    "            if cd+1 < max_depth and len(friendids) > FRIENDS_OF_FRIENDS_LIMIT:\n",
    "                print 'Not all friends retrieved for %s.' % screen_name\n",
    "\n",
    "    except Exception, error:\n",
    "        print 'Error retrieving followers for user id: ', centre\n",
    "        print error\n",
    "\n",
    "        if os.path.exists(fname):\n",
    "            os.remove(fname)\n",
    "            print 'Removed file \"%s\".' % fname\n",
    "\n",
    "        sys.exit(1)\n",
    "\n",
    "    return taboo_list\n",
    "\n",
    "'''\n",
    "if __name__ == '__main__':\n",
    "    ap = argparse.ArgumentParser()\n",
    "    ap.add_argument(\"-s\", \"--screen-name\", required=True, help=\"Screen name of twitter user\")\n",
    "    ap.add_argument(\"-d\", \"--depth\", required=True, type=int, help=\"How far to follow user network\")\n",
    "    args = vars(ap.parse_args())\n",
    "\n",
    "    twitter_screenname = args['screen_name']\n",
    "    depth = int(args['depth'])\n",
    "\n",
    "    if depth < 1 or depth > 3:\n",
    "        print 'Depth value %d is not valid. Valid range is 1-3.' % depth\n",
    "        sys.exit('Invalid depth argument.')\n",
    "\n",
    "    print 'Max Depth: %d' % depth\n",
    "    matches = api.lookup_users(screen_names=[twitter_screenname])\n",
    "\n",
    "    if len(matches) == 1:\n",
    "        print get_follower_ids(matches[0].id, max_depth=depth)\n",
    "    else:\n",
    "        print 'Sorry, could not find twitter user with screen name: %s' % twitter_screenname\n",
    "'''        \n"
   ]
  },
  {
   "cell_type": "code",
   "execution_count": null,
   "metadata": {
    "collapsed": false,
    "deletable": true,
    "editable": true
   },
   "outputs": [],
   "source": []
  },
  {
   "cell_type": "code",
   "execution_count": null,
   "metadata": {
    "collapsed": false,
    "deletable": true,
    "editable": true
   },
   "outputs": [],
   "source": []
  },
  {
   "cell_type": "code",
   "execution_count": 187,
   "metadata": {
    "collapsed": false,
    "deletable": true,
    "editable": true
   },
   "outputs": [],
   "source": [
    "user = api.get_user('dwheelerau')"
   ]
  },
  {
   "cell_type": "code",
   "execution_count": 188,
   "metadata": {
    "collapsed": true,
    "deletable": true,
    "editable": true
   },
   "outputs": [],
   "source": [
    "d = {'name': user.name,\n",
    "     'screen_name': user.screen_name,\n",
    "     'id': user.id,\n",
    "     'friends_count': user.friends_count,\n",
    "     'followers_count': user.followers_count,\n",
    "     'followers_ids': user.followers_ids()}\n"
   ]
  },
  {
   "cell_type": "code",
   "execution_count": 190,
   "metadata": {
    "collapsed": true,
    "deletable": true,
    "editable": true
   },
   "outputs": [],
   "source": [
    "with open('dw_followers.txt', 'w') as outf:\n",
    "    outf.write(json.dumps(d, indent=1))"
   ]
  },
  {
   "cell_type": "code",
   "execution_count": 218,
   "metadata": {
    "collapsed": false,
    "deletable": true,
    "editable": true
   },
   "outputs": [
    {
     "name": "stdout",
     "output_type": "stream",
     "text": [
      "{\r\n",
      " \"name\": \"Dave Wheeler\", \r\n",
      " \"friends_count\": 293, \r\n",
      " \"followers_count\": 270, \r\n",
      " \"followers_ids\": [\r\n",
      "  89715049, \r\n",
      "  825176793904726019, \r\n",
      "  2892117213, \r\n",
      "  117224557, \r\n",
      "  758039998386102276, \r\n"
     ]
    }
   ],
   "source": [
    "!head dw_followers.txt"
   ]
  },
  {
   "cell_type": "code",
   "execution_count": 222,
   "metadata": {
    "collapsed": false,
    "deletable": true,
    "editable": true
   },
   "outputs": [
    {
     "data": {
      "text/plain": [
       "[89715049,\n",
       " 825176793904726019,\n",
       " 2892117213,\n",
       " 117224557,\n",
       " 758039998386102276,\n",
       " 785322258935844864,\n",
       " 798416960744779776,\n",
       " 766970463427756032,\n",
       " 794268670226669569,\n",
       " 1858325484]"
      ]
     },
     "execution_count": 222,
     "metadata": {},
     "output_type": "execute_result"
    }
   ],
   "source": [
    "d['followers_ids'][:10]"
   ]
  },
  {
   "cell_type": "code",
   "execution_count": 342,
   "metadata": {
    "collapsed": false,
    "deletable": true,
    "editable": true
   },
   "outputs": [],
   "source": [
    "pt_loc = PrettyTable(field_names=['Place','County'])\n",
    "locations = []\n",
    "missing_count = 0\n",
    "for follower in d['followers_ids']:\n",
    "    user_info = twitter_api.users.lookup(user_id=follower)\n",
    "    if user_info[0]['location']:\n",
    "        loc = user_info[0]['location'].split(', ')\n",
    "        if len(loc) == 2:\n",
    "            locations.append(loc)\n",
    "        elif len(loc) > 2:\n",
    "            loc = user_info[0]['location'].split(', ')[:2]\n",
    "            locations.append(loc)\n",
    "        else:\n",
    "            loc.append(\" \")\n",
    "            locations.append(loc)\n",
    "    else:\n",
    "        missing_count += 1\n",
    "locations.append([\"missing\", missing_count])\n"
   ]
  },
  {
   "cell_type": "code",
   "execution_count": 344,
   "metadata": {
    "collapsed": false,
    "deletable": true,
    "editable": true
   },
   "outputs": [
    {
     "name": "stdout",
     "output_type": "stream",
     "text": [
      "+-------------------------------+---------------------+\n",
      "|             Place             |        County       |\n",
      "+-------------------------------+---------------------+\n",
      "|           Harrogate           |       England       |\n",
      "|          Bloomington          |          IN         |\n",
      "|            Varanasi           |        India        |\n",
      "|         South Carolina        |         USA         |\n",
      "|       Massey University       |                     |\n",
      "|            Arizona            |                     |\n",
      "|        Cornwall campus        |      Penryn UK      |\n",
      "|           San Diego           |          CA         |\n",
      "|            Norwich            |       England       |\n",
      "|             Omaha             |          NE         |\n",
      "|          New Zealand          |                     |\n",
      "|            Auckland           |     New Zealand     |\n",
      "|           Menlo Park          |          CA         |\n",
      "|           Palo Alto           |          CA         |\n",
      "|           Rochester           |          NY         |\n",
      "|            Potsdam            |     Brandenburg     |\n",
      "|  vancouver island b c canada  |                     |\n",
      "|           Riverside           |          CA         |\n",
      "|            Auckland           |                     |\n",
      "|            Auckland           |     New Zealand     |\n",
      "|      Brighton and London      |                     |\n",
      "|            New York           |          NY         |\n",
      "|           Manhattan           |          KS         |\n",
      "|           Australia           |                     |\n",
      "|            Dunedin            |     New Zealand     |\n",
      "|         Virginia Beach        |          VA         |\n",
      "|         Auckland City         |     New Zealand     |\n",
      "|            Auckland           | NZ and sometimes Oz |\n",
      "|            Auckland           |      New Zealand    |\n",
      "|          Christchurch         |          NZ         |\n",
      "|        Rotorua District       |     New Zealand     |\n",
      "|             Sydney            |      Australia      |\n",
      "|          Dunedin City         |     New Zealand     |\n",
      "|           Charleston          |          SC         |\n",
      "|            Campbell           |    United States    |\n",
      "|             Global            |                     |\n",
      "|            Chicago            |          IL         |\n",
      "|             Europe            |                     |\n",
      "|            Helsinki           |                     |\n",
      "|    University of Washington   |                     |\n",
      "|           Corvallis           |          OR         |\n",
      "|           Everywhere          |                     |\n",
      "|            Pasadena           |          CA         |\n",
      "|            Dunedin            |                     |\n",
      "|        Wellington City        |     New Zealand     |\n",
      "|           Wageningen          |   The Netherlands   |\n",
      "|          New Zealand          |                     |\n",
      "|         SF on 2/22/17         |                     |\n",
      "|             Ithaca            |          NY         |\n",
      "|             Italy             |        Europe       |\n",
      "|          New Zealand          |                     |\n",
      "|           Rochester           |          NY         |\n",
      "|          Gainesville          |          FL         |\n",
      "|         San Francisco         |          CA         |\n",
      "|             Paris             |        France       |\n",
      "|           Lake Tahoe          |          NV         |\n",
      "|             Sydney            |                     |\n",
      "|             earth             |                     |\n",
      "|             Sydney            |      Australia      |\n",
      "|           Australia           |                     |\n",
      "|         Kampala,Uganda        |                     |\n",
      "|          Christchurch         |          NZ         |\n",
      "|            Atlanta            |                     |\n",
      "|           Vancouver           |          BC         |\n",
      "|        Kensington Park        |      Australia      |\n",
      "|             Oxford            |          UK         |\n",
      "|           Wellington          |          NZ         |\n",
      "|             Bangor            |        Wales        |\n",
      "|            Adelaide           |   South Australia   |\n",
      "|           oxford uk           |                     |\n",
      "|          New Zealand          |                     |\n",
      "|          Christchurch         |     New Zealand     |\n",
      "|           Melbourne           |      Australia      |\n",
      "|          New Zealand          |                     |\n",
      "|           Melbourne           |                     |\n",
      "|          Philadelphia         |          PA         |\n",
      "|            Lausanne           |     Switzerland     |\n",
      "|               UK              |                     |\n",
      "|     Palmerston North City     |                     |\n",
      "|            DOINAKA            |        JAPAN        |\n",
      "|             Perth             |  Western Australia  |\n",
      "|         San Francisco         |          CA         |\n",
      "|             Paris             |        France       |\n",
      "|              Lyon             |        France       |\n",
      "|             Leiden            |     Zuid-Holland    |\n",
      "|            Lincoln            |         USA         |\n",
      "|             Berlin            |       Germany       |\n",
      "|            jakarta            |                     |\n",
      "|         Seaside in Oz         |                     |\n",
      "|            Adelaide           |                     |\n",
      "|           Hong Kong           |                     |\n",
      "|             Bangor            |        Wales        |\n",
      "|         New York City         |                     |\n",
      "|        Sophia-Antipolis       |                     |\n",
      "|             Athens            |          GA         |\n",
      "|             Aragua            |                     |\n",
      "|          New Zealand          |                     |\n",
      "|             Sydney            |                     |\n",
      "|             Loxton            |                     |\n",
      "|            Ireland            |                     |\n",
      "|              York             |      Yorkshire      |\n",
      "|             London            |                     |\n",
      "|            Dunedin            |     New Zealand     |\n",
      "|           Worldwide           |                     |\n",
      "|          Field Museum         |       Chicago       |\n",
      "|           Wellington          |     New Zealand     |\n",
      "|           Wellington          |                     |\n",
      "|       Massey University       |                     |\n",
      "|          New Zealand          |                     |\n",
      "|           Melbourne           |      Australia      |\n",
      "|             Canada            |                     |\n",
      "|             Timaru            |     New Zealand     |\n",
      "|          Philadelphia         |          PA         |\n",
      "|           Argentina           |                     |\n",
      "|      Phnom Penh ,Cambodia     |                     |\n",
      "|       Big Data Institute      |        Oxford       |\n",
      "|            Norwich            |          UK         |\n",
      "|           Worldwide           |                     |\n",
      "|         Mountain View         |      California     |\n",
      "|            Helsinki           |                     |\n",
      "|    San Francisco/ Cambridge   |          UK         |\n",
      "|          Manhattan Ks         |                     |\n",
      "|             Athens            |          GA         |\n",
      "| LoCal Flava So Local es LOCO! |                     |\n",
      "|              江苏             |    中华人民共和国   |\n",
      "|        Yale University        |                     |\n",
      "|           Cambridge           |          MA         |\n",
      "|       University of Iowa      |                     |\n",
      "|               UK              |                     |\n",
      "|            Auckland           |     New Zealand     |\n",
      "|           Cambridge           |          MA         |\n",
      "|             Zagreb            |                     |\n",
      "|           Melbourne           |      Australia      |\n",
      "|             Oxford            |                     |\n",
      "|             London            |                     |\n",
      "|             London            |       England       |\n",
      "|          Ballincollig         |         Cork        |\n",
      "|            Canberra           |      Australia      |\n",
      "|               VA              |                     |\n",
      "|            Berkeley           |          CA         |\n",
      "|   FZCC - Etopia - Zaragoza.   |                     |\n",
      "|            Utrecht            |   The Netherlands   |\n",
      "|             London            |                     |\n",
      "|             aveiro            |       portugal      |\n",
      "|         Home. Online.         |                     |\n",
      "|           Vancouver           |          BC         |\n",
      "|        Vancouver Canada       |                     |\n",
      "|           Baltimore           |       Maryland      |\n",
      "|    Location: World Wide Web   |                     |\n",
      "|   Contact: twitter@kim.com    |                     |\n",
      "|            pakistan           |                     |\n",
      "|            Toronto            |        Canada       |\n",
      "|             Berlin            |                     |\n",
      "|         Czech Republic        |                     |\n",
      "|            Madison            |      Wisconsin      |\n",
      "|         United Kingdom        |                     |\n",
      "|           Worldwide           |                     |\n",
      "|             Dublin            |       Ireland       |\n",
      "|            Adelaide           |                     |\n",
      "|           California          |         USA         |\n",
      "|     Utah State University     |                     |\n",
      "|              Bonn             |     Deutschland     |\n",
      "|          Hampshire UK         |                     |\n",
      "|               CT              |                     |\n",
      "|             Boston            |          MA         |\n",
      "|            Auckland           |                     |\n",
      "|            Santiago           |        Chile        |\n",
      "|             Misery            |          OH         |\n",
      "|              USA              |                     |\n",
      "|           Baltimore           |          MD         |\n",
      "|           Cambridge           |       England       |\n",
      "|             Boston            |          MA         |\n",
      "|           Australia           |                     |\n",
      "|           Iowa City           |          IA         |\n",
      "|           Sheffield           |                     |\n",
      "|            Midwest            |     US; Tanzania    |\n",
      "|       Derry/Londonderry       |      N. Ireland     |\n",
      "|             Canada            |        China        |\n",
      "|           Melbourne           |      Australia      |\n",
      "|       Presently Engaged       |                     |\n",
      "|   discogenome.wordpress.com   |                     |\n",
      "|            all over           |                     |\n",
      "|    Yorkshire and The Humber   |       England       |\n",
      "|           Australia           |                     |\n",
      "|               UK              |                     |\n",
      "|             Sweden            |                     |\n",
      "|            Portland           |          OR         |\n",
      "|  Bristol  (origins Norn Iron) |                     |\n",
      "|             Global            |                     |\n",
      "|             London            |                     |\n",
      "|            New York           |                     |\n",
      "|             London            |                     |\n",
      "|             Israel            |                     |\n",
      "|            Ti Point           |     New Zealand     |\n",
      "|  http://go.bofa.com/BofAHelp  |                     |\n",
      "|     Vanderbilt University     |                     |\n",
      "|  Rowland Institute at Harvard |                     |\n",
      "|             Tulsa             |          OK         |\n",
      "|              USA              |                     |\n",
      "|            Seattle            |                     |\n",
      "|            Brisbane           |                     |\n",
      "|             Chico             |          CA         |\n",
      "|            New York           |          NY         |\n",
      "| Twin Cities MN & Milwaukee WI |                     |\n",
      "|           Melbourne           |      Australia      |\n",
      "|            Winnipeg           |                     |\n",
      "|        Palmerston North       |     New Zealand     |\n",
      "|            Brisbane           |                     |\n",
      "|            Adelaide           |                     |\n",
      "|            missing            |          61         |\n",
      "+-------------------------------+---------------------+\n"
     ]
    }
   ],
   "source": [
    "[pt_loc.add_row(r) for r in locations]\n",
    "print pt_loc"
   ]
  },
  {
   "cell_type": "code",
   "execution_count": 351,
   "metadata": {
    "collapsed": true,
    "deletable": true,
    "editable": true
   },
   "outputs": [],
   "source": [
    "statuses = twitter_api.statuses.user_timeline(count = 200)"
   ]
  },
  {
   "cell_type": "code",
   "execution_count": 358,
   "metadata": {
    "collapsed": false,
    "deletable": true,
    "editable": true
   },
   "outputs": [],
   "source": [
    "with open('timeline.txt', 'w') as f:\n",
    "    for status in statuses:\n",
    "        info = \"%s\\t%s\\n\" % (status['user']['location'], status['created_at'])\n",
    "        f.write(info)        "
   ]
  },
  {
   "cell_type": "code",
   "execution_count": 359,
   "metadata": {
    "collapsed": false,
    "deletable": true,
    "editable": true
   },
   "outputs": [
    {
     "name": "stdout",
     "output_type": "stream",
     "text": [
      "Palmerston north, New Zealand \tWed Jan 11 20:11:43 +0000 2017\r\n",
      "Palmerston north, New Zealand \tSun Jan 08 02:07:11 +0000 2017\r\n",
      "Palmerston north, New Zealand \tWed Jan 04 07:27:33 +0000 2017\r\n",
      "Palmerston north, New Zealand \tWed Jan 04 07:23:08 +0000 2017\r\n",
      "Palmerston north, New Zealand \tThu Dec 29 02:51:10 +0000 2016\r\n",
      "Palmerston north, New Zealand \tTue Nov 29 10:01:22 +0000 2016\r\n",
      "Palmerston north, New Zealand \tMon Nov 28 09:37:22 +0000 2016\r\n",
      "Palmerston north, New Zealand \tSat Nov 26 06:46:20 +0000 2016\r\n",
      "Palmerston north, New Zealand \tSat Nov 26 06:14:34 +0000 2016\r\n",
      "Palmerston north, New Zealand \tSat Nov 26 00:57:10 +0000 2016\r\n"
     ]
    }
   ],
   "source": [
    "!head timeline.txt"
   ]
  },
  {
   "cell_type": "code",
   "execution_count": 441,
   "metadata": {
    "collapsed": false,
    "deletable": true,
    "editable": true
   },
   "outputs": [
    {
     "data": {
      "text/html": [
       "<div style=\"max-height:1000px;max-width:1500px;overflow:auto;\">\n",
       "<table border=\"1\" class=\"dataframe\">\n",
       "  <thead>\n",
       "    <tr style=\"text-align: right;\">\n",
       "      <th></th>\n",
       "      <th>Place</th>\n",
       "      <th>Date_Time</th>\n",
       "    </tr>\n",
       "  </thead>\n",
       "  <tbody>\n",
       "    <tr>\n",
       "      <th>0</th>\n",
       "      <td> Palmerston north, New Zealand </td>\n",
       "      <td> Wed Jan 11 20:11:43 +0000 2017</td>\n",
       "    </tr>\n",
       "    <tr>\n",
       "      <th>1</th>\n",
       "      <td> Palmerston north, New Zealand </td>\n",
       "      <td> Sun Jan 08 02:07:11 +0000 2017</td>\n",
       "    </tr>\n",
       "    <tr>\n",
       "      <th>2</th>\n",
       "      <td> Palmerston north, New Zealand </td>\n",
       "      <td> Wed Jan 04 07:27:33 +0000 2017</td>\n",
       "    </tr>\n",
       "    <tr>\n",
       "      <th>3</th>\n",
       "      <td> Palmerston north, New Zealand </td>\n",
       "      <td> Wed Jan 04 07:23:08 +0000 2017</td>\n",
       "    </tr>\n",
       "    <tr>\n",
       "      <th>4</th>\n",
       "      <td> Palmerston north, New Zealand </td>\n",
       "      <td> Thu Dec 29 02:51:10 +0000 2016</td>\n",
       "    </tr>\n",
       "  </tbody>\n",
       "</table>\n",
       "<p>5 rows × 2 columns</p>\n",
       "</div>"
      ],
      "text/plain": [
       "                            Place                       Date_Time\n",
       "0  Palmerston north, New Zealand   Wed Jan 11 20:11:43 +0000 2017\n",
       "1  Palmerston north, New Zealand   Sun Jan 08 02:07:11 +0000 2017\n",
       "2  Palmerston north, New Zealand   Wed Jan 04 07:27:33 +0000 2017\n",
       "3  Palmerston north, New Zealand   Wed Jan 04 07:23:08 +0000 2017\n",
       "4  Palmerston north, New Zealand   Thu Dec 29 02:51:10 +0000 2016\n",
       "\n",
       "[5 rows x 2 columns]"
      ]
     },
     "execution_count": 441,
     "metadata": {},
     "output_type": "execute_result"
    }
   ],
   "source": [
    "from pandas import DataFrame\n",
    "import pandas as pd\n",
    "df = DataFrame(pd.read_table('timeline.txt',names=['Place','Date_Time']))\n",
    "df.head()"
   ]
  },
  {
   "cell_type": "code",
   "execution_count": 487,
   "metadata": {
    "collapsed": false,
    "deletable": true,
    "editable": true
   },
   "outputs": [
    {
     "data": {
      "text/html": [
       "<div style=\"max-height:1000px;max-width:1500px;overflow:auto;\">\n",
       "<table border=\"1\" class=\"dataframe\">\n",
       "  <thead>\n",
       "    <tr style=\"text-align: right;\">\n",
       "      <th></th>\n",
       "      <th>Place</th>\n",
       "      <th>Date_Time</th>\n",
       "      <th>Date</th>\n",
       "      <th>year</th>\n",
       "    </tr>\n",
       "    <tr>\n",
       "      <th>Date_Time</th>\n",
       "      <th></th>\n",
       "      <th></th>\n",
       "      <th></th>\n",
       "      <th></th>\n",
       "    </tr>\n",
       "  </thead>\n",
       "  <tbody>\n",
       "    <tr>\n",
       "      <th>2017-01-11 20:11:43</th>\n",
       "      <td> Palmerston north, New Zealand </td>\n",
       "      <td>2017-01-11 20:11:43</td>\n",
       "      <td>2017-01-11 20:11:43</td>\n",
       "      <td> 2017</td>\n",
       "    </tr>\n",
       "    <tr>\n",
       "      <th>2017-01-08 02:07:11</th>\n",
       "      <td> Palmerston north, New Zealand </td>\n",
       "      <td>2017-01-08 02:07:11</td>\n",
       "      <td>2017-01-08 02:07:11</td>\n",
       "      <td> 2017</td>\n",
       "    </tr>\n",
       "    <tr>\n",
       "      <th>2017-01-04 07:27:33</th>\n",
       "      <td> Palmerston north, New Zealand </td>\n",
       "      <td>2017-01-04 07:27:33</td>\n",
       "      <td>2017-01-04 07:27:33</td>\n",
       "      <td> 2017</td>\n",
       "    </tr>\n",
       "    <tr>\n",
       "      <th>2017-01-04 07:23:08</th>\n",
       "      <td> Palmerston north, New Zealand </td>\n",
       "      <td>2017-01-04 07:23:08</td>\n",
       "      <td>2017-01-04 07:23:08</td>\n",
       "      <td> 2017</td>\n",
       "    </tr>\n",
       "    <tr>\n",
       "      <th>2016-12-29 02:51:10</th>\n",
       "      <td> Palmerston north, New Zealand </td>\n",
       "      <td>2016-12-29 02:51:10</td>\n",
       "      <td>2016-12-29 02:51:10</td>\n",
       "      <td> 2016</td>\n",
       "    </tr>\n",
       "  </tbody>\n",
       "</table>\n",
       "<p>5 rows × 4 columns</p>\n",
       "</div>"
      ],
      "text/plain": [
       "                                              Place           Date_Time  \\\n",
       "Date_Time                                                                 \n",
       "2017-01-11 20:11:43  Palmerston north, New Zealand  2017-01-11 20:11:43   \n",
       "2017-01-08 02:07:11  Palmerston north, New Zealand  2017-01-08 02:07:11   \n",
       "2017-01-04 07:27:33  Palmerston north, New Zealand  2017-01-04 07:27:33   \n",
       "2017-01-04 07:23:08  Palmerston north, New Zealand  2017-01-04 07:23:08   \n",
       "2016-12-29 02:51:10  Palmerston north, New Zealand  2016-12-29 02:51:10   \n",
       "\n",
       "                                   Date  year  \n",
       "Date_Time                                      \n",
       "2017-01-11 20:11:43 2017-01-11 20:11:43  2017  \n",
       "2017-01-08 02:07:11 2017-01-08 02:07:11  2017  \n",
       "2017-01-04 07:27:33 2017-01-04 07:27:33  2017  \n",
       "2017-01-04 07:23:08 2017-01-04 07:23:08  2017  \n",
       "2016-12-29 02:51:10 2016-12-29 02:51:10  2016  \n",
       "\n",
       "[5 rows x 4 columns]"
      ]
     },
     "execution_count": 487,
     "metadata": {},
     "output_type": "execute_result"
    }
   ],
   "source": [
    "df.index= pd.to_datetime(df['Date_Time'])\n",
    "df.head()"
   ]
  },
  {
   "cell_type": "code",
   "execution_count": 471,
   "metadata": {
    "collapsed": false,
    "deletable": true,
    "editable": true,
    "scrolled": true
   },
   "outputs": [
    {
     "data": {
      "text/html": [
       "<div style=\"max-height:1000px;max-width:1500px;overflow:auto;\">\n",
       "<table border=\"1\" class=\"dataframe\">\n",
       "  <thead>\n",
       "    <tr style=\"text-align: right;\">\n",
       "      <th></th>\n",
       "      <th>Place</th>\n",
       "      <th>Date_Time</th>\n",
       "      <th>Date</th>\n",
       "      <th>year</th>\n",
       "    </tr>\n",
       "    <tr>\n",
       "      <th>Date_Time</th>\n",
       "      <th></th>\n",
       "      <th></th>\n",
       "      <th></th>\n",
       "      <th></th>\n",
       "    </tr>\n",
       "  </thead>\n",
       "  <tbody>\n",
       "    <tr>\n",
       "      <th>2017-01-11 20:11:43</th>\n",
       "      <td> Palmerston north, New Zealand </td>\n",
       "      <td>2017-01-11 20:11:43</td>\n",
       "      <td>2017-01-11 20:11:43</td>\n",
       "      <td> 2017</td>\n",
       "    </tr>\n",
       "    <tr>\n",
       "      <th>2017-01-08 02:07:11</th>\n",
       "      <td> Palmerston north, New Zealand </td>\n",
       "      <td>2017-01-08 02:07:11</td>\n",
       "      <td>2017-01-08 02:07:11</td>\n",
       "      <td> 2017</td>\n",
       "    </tr>\n",
       "    <tr>\n",
       "      <th>2017-01-04 07:27:33</th>\n",
       "      <td> Palmerston north, New Zealand </td>\n",
       "      <td>2017-01-04 07:27:33</td>\n",
       "      <td>2017-01-04 07:27:33</td>\n",
       "      <td> 2017</td>\n",
       "    </tr>\n",
       "    <tr>\n",
       "      <th>2017-01-04 07:23:08</th>\n",
       "      <td> Palmerston north, New Zealand </td>\n",
       "      <td>2017-01-04 07:23:08</td>\n",
       "      <td>2017-01-04 07:23:08</td>\n",
       "      <td> 2017</td>\n",
       "    </tr>\n",
       "    <tr>\n",
       "      <th>2016-12-29 02:51:10</th>\n",
       "      <td> Palmerston north, New Zealand </td>\n",
       "      <td>2016-12-29 02:51:10</td>\n",
       "      <td>2016-12-29 02:51:10</td>\n",
       "      <td> 2016</td>\n",
       "    </tr>\n",
       "  </tbody>\n",
       "</table>\n",
       "<p>5 rows × 4 columns</p>\n",
       "</div>"
      ],
      "text/plain": [
       "                                              Place           Date_Time  \\\n",
       "Date_Time                                                                 \n",
       "2017-01-11 20:11:43  Palmerston north, New Zealand  2017-01-11 20:11:43   \n",
       "2017-01-08 02:07:11  Palmerston north, New Zealand  2017-01-08 02:07:11   \n",
       "2017-01-04 07:27:33  Palmerston north, New Zealand  2017-01-04 07:27:33   \n",
       "2017-01-04 07:23:08  Palmerston north, New Zealand  2017-01-04 07:23:08   \n",
       "2016-12-29 02:51:10  Palmerston north, New Zealand  2016-12-29 02:51:10   \n",
       "\n",
       "                                   Date  year  \n",
       "Date_Time                                      \n",
       "2017-01-11 20:11:43 2017-01-11 20:11:43  2017  \n",
       "2017-01-08 02:07:11 2017-01-08 02:07:11  2017  \n",
       "2017-01-04 07:27:33 2017-01-04 07:27:33  2017  \n",
       "2017-01-04 07:23:08 2017-01-04 07:23:08  2017  \n",
       "2016-12-29 02:51:10 2016-12-29 02:51:10  2016  \n",
       "\n",
       "[5 rows x 4 columns]"
      ]
     },
     "execution_count": 471,
     "metadata": {},
     "output_type": "execute_result"
    }
   ],
   "source": [
    "pandas"
   ]
  },
  {
   "cell_type": "code",
   "execution_count": 488,
   "metadata": {
    "collapsed": false,
    "deletable": true,
    "editable": true
   },
   "outputs": [
    {
     "data": {
      "text/plain": [
       "year\n",
       "2015     84\n",
       "2016    112\n",
       "2017      4\n",
       "dtype: int64"
      ]
     },
     "execution_count": 488,
     "metadata": {},
     "output_type": "execute_result"
    }
   ],
   "source": [
    "g = df.groupby('year')\n",
    "g.size()"
   ]
  },
  {
   "cell_type": "code",
   "execution_count": null,
   "metadata": {
    "collapsed": false,
    "deletable": true,
    "editable": true
   },
   "outputs": [],
   "source": []
  },
  {
   "cell_type": "code",
   "execution_count": 246,
   "metadata": {
    "collapsed": false,
    "deletable": true,
    "editable": true
   },
   "outputs": [
    {
     "name": "stderr",
     "output_type": "stream",
     "text": [
      "This example has been updated to use Twitter's v1.1 API, which now requires authentication for *all* requests (amongst other things.) \n",
      "\n",
      "To run this example, you'll just need to go to http://twitter.com/apps/new to create an app and get authentication credentials that should be inserted into this file's source code. See https://dev.twitter.com/docs/auth/oauth for more information on Twitter's OAuth implementation\n",
      "Number nodes: 602\n",
      "Num edges: 439\n",
      "Node degrees: [u'.@LloydRothwell', u'.@MZHemingway', u'.@SenJohnMcCain', u'0_Toole', u'5SOSChile', u'9562Debbie', u'ABCNews', u'ABWright824:', u'ALT_DOJ', u'AP', u'AP_Politics', u'Aargh4Shelly', u'Acosta', u'Admiral_224', u'AkiPeritz', u'AlbertBrooks', u'AlbertoSolis15', u'AlexisinNH', u'Ali_Star', u'AlsoWonderWoman', u'AmyMek', u'AndrewD_editor', u'Andy', u'AnewThomasPaine', u'AnonFamSheila', u'Antipaganda', u'AnySurvival', u'ArmyWife98', u'Art_Lilla_Music', u'ArtmanJanet', u'AshakaSaleh:', u'Asher_Wolf', u'AshleyC80839691', u'AsiaPolicy', u'Aussiebelle1972', u'Australia', u'AustraliaVote', u'BP_NP', u'BUDDYBLUE920', u'BadLibrarian', u'Bait_AL_7ekmah', u'BellaFlokarti', u'Bethany4646', u'BigFreakMedia', u'BillPar24756930', u'Bioben78', u'Blackcattt', u'BlueWestlo', u'BraddJaffy', u'Breznican', u'BrienLillian', u'BuckyIsotope', u'BurlPowell', u'BuzzFeedNews', u'CCLContraCosta', u'CNN', u'CSKranzsMind', u'CSLovely', u'CandyCheung228', u'CashVendetta', u'Catfur98', u'CharleyPeppers:', u'CheriePerdue', u'CherylSmiles90', u'ChrisMurphyCT', u'ChrisRy06699733', u'CindyFalone', u'CindyRae1960', u'ConservativeWo2', u'Cy_Denneny', u'DLeonhardt', u'DanapronouncedD', u'DankLordofshit', u'DavetheAggie', u'DavidYankovich', u'DaydreamSlays', u'DbmabeTD', u'Ddebn8R', u'DemocatJorge', u'DeniseO6229', u'DexertoIntel', u'DiegoLBazaldua', u'Diplopundit', u'DolceCarla', u'DomhnallAllen', u'DonalConaty', u'DrGreenmantle', u'Dr_Atchison', u'DrewStewartCola', u'Earthfire12', u'EdithCourteman2', u'EllenAr63457846', u'ErinMcGinley', u'ExecCanuck', u'FactChasingNews', u'FemmesUnafraid', u'Fight_Talk1', u'FinancialReview', u'FoxNews:', u'FukFascist', u'Fusion', u'GMegalogenis', u'Go_Dawgs_91', u'GoodmanLantern', u'GoonerismSpeek', u'GranmaLee', u'HWD', u'HamiltonElector', u'HiYuHiMi', u'HilaryStJonn', u'Hitchycock', u'Houckadoodledoo', u'HuffingtonPost', u'ICC', u'IKKsays', u'IanDavidWatson1', u'IfHillaryHad', u'IheartWilSon3', u'Impolitics', u'Infobahn', u'IsabeIMcCaII2', u'ItsBouquet', u'IvankaToWorkDay', u'JAG_atthebeach', u'JHB12Three', u'JSilamianos', u'JamesFallows', u'JamesMSama', u'JaneSnedeker', u'JesseLehrich', u'Jgucciardo2', u'JimDD942', u'JoeNBC', u'JoelRDodd', u'JohnFugelsang', u'JohnJonny1', u'JohnWren1950', u'JohnnieWonder', u'JohnnyDgucci', u'Jothipala_Bot', u'JudyBee_FL', u'JurzbillM', u'JustineBateman', u'KGalOSU', u'KaiserMarroquin', u'KaivanShroff', u'KamVTV:', u'KathrynCroft', u'KenJennings', u'KenTremendous', u'KermitTheKush', u'Kiley_Doll', u'KingPeterking12', u'Klutar', u'LaciLou77', u'LapissedLazuli', u'LarryShort777', u'Layla_Parsa', u'Leosawyer11', u'Leosawyer11:', u'LindaGarriss', u'LisaMichelleEll', u'LizWill99', u'LogisticsDTNET', u'Logymckae', u'Lola__brooklyn', u'Lone_Ranger376', u'Loud_Lass', u'Love4theLeast', u'Lrihendry', u'LuchadorMex', u'Luckette808', u'MABerts', u'M_rzy2G', u'MacDowellRugby', u'Mafinacc', u'MaraWilson', u'MariaTevesGonz', u'MarianMme16513', u'MarkDiStef', u'Markovs_Pet', u'MarkyB', u'MaryAbrahams', u'Matluthfi90', u'MatthewBevan', u'Mavgoose2', u'Max_Fisher', u'Mayne1Carrie', u'Mblobs', u'MeganantaBurges', u'Metalbones59', u'Michell82968785', u'MissiTrahan', u'MlleIsabelH', u'MntsofWv', u'MrsP9000', u'MuffinzChokIce', u'NaomiAKlein', u'NastyWP', u'Neo_Wolf', u'News365247live', u'NickKristof', u'Nizana', u'NormanDMuelle', u'Nurse_JulieGale', u'OceanWarrior35', u'OmarjSakr', u'Origamigryphon', u'Pammieoz', u'PatienceSundar2', u'Patontheroad', u'PeteDKY', u'PeterPyke', u'Peyto_Chesto', u'Phiberphan', u'PolitzOficial', u'Pundamentalism', u'RAllen946', u'RNBreakfast', u'ReformedBroker', u'RehmanSid', u'ReneeRuffner', u'Rob_Virtue', u'RobynHicks', u'RollingStone', u'Ronin2428', u'RoryPMcGuire', u'Rowwyn', u'Ruth_elsesser', u'SBSNews', u'SSuaimhneas', u'SW7900:', u'SaMioN777', u'SabresofBuffalo', u'SafeeyahK_', u'SamScrogg', u'SandraKennett1', u'SarahHennessy99', u'SassssieCassie', u'ScottPresler', u'Shariviolin', u'SheWhoVotes', u'Shekaivan', u'ShoutAloudNow', u'SkePatt', u'SouthPark', u'SportsCenter_nt', u'StDeviantly:', u'StackDevJobs', u'StadiumJourney:', u'StephanieCarvin', u'StephenKing', u'StiviDeTivi', u'Strange_Animals', u'SummerL43489909', u'SupipiJ2', u'SusanHilgenfeld', u'SuzanneinLGB', u'SveaVikander', u'SylnigSylvia', u'TGAgovau', u'THERESPONSE_HP', u'TainterbBonita', u'TammiBondurant', u'TearsInHeaven09', u'TedNesi', u'ThadIsNotFood', u'TheKennyDevine', u'ThePatriot143', u'The_Last_NewsPa', u'The_Real_Fly', u'TickCric', u'TimGettys', u'Tony_Ridley', u'Toure', u'Traffy1313', u'TravelVSCO', u'Trishawillie', u'Trudi16', u'TrumPenceSocial', u'TrustyGordon', u'TruthFeedNews', u'Tuber10614630', u'Tweeds01', u'USATODAY', u'UdnSpeak4me', u'VETERANUSA1', u'VRWCTexan', u'WDP_HeathGeorge', u'WWmorgan42', u'Wahrhaftig', u'Wenmay316', u'WilliamPesek', u'WinstonCarroway', u'WizardOfStraya', u'Wonkette', u'Writerchick10', u'Xero', u'YKnot', u'YouTube', u'YourAnonCentral', u'Zac_Petkanas', u'_2mtl6', u'_AmyGray_', u'__dont__1', u'_niimartey_', u'abbydillaha', u'abcnews', u'abeeregypt68', u'acegiak', u'acmmm3', u'adamhillscomedy', u'ahope71', u'ahuertas26', u'ajinsonjunior20', u'alejandrotr83', u'allfiveoceans', u'alshipley', u'altFBI', u'amandaaxxbear', u'anilmn693', u'anne_ruble', u'annebroun:', u'anto71703434', u'arawis', u'aria1728', u'arichduvet', u'austinlc99', u'avidswimmer', u'bellablue1060', u'beneltham', u'bertha1957', u'bignick7676', u'bottlecar', u'bourgeoisalien', u'bpolitics', u'brettroberts', u'brewer_eddy:', u'bringitovahea', u'brit_ellison', u'budgieluv23', u'caioblinder', u'cameron_stell', u'camobell24', u'canadasevens', u'candi_candid', u'caroljdavy', u'chasin_dwight', u'chelsadler', u'cher', u'chereecorbin', u'chicharowny', u'chrislhayes', u'chrislswood', u'cindysypher', u'climatehawk1', u'coastin42', u'condorscondor', u'conradhackett', u'cparkeast1', u'craigscott209', u'csayegh35', u'cunningham_cch', u'd29681', u'datagoodies', u'dayang_nurafiqa', u'dayzieprodov191', u'denisesaturn', u'derrickmckee', u'deskspare', u'devenrd', u'dfblokes', u'dgarciaprada1', u'dhdmckenzies', u'dianne_janes', u'dingos1946', u'dotReynoso', u'drsnerk', u'duncanfine', u'eaholdsworth', u'edavid57edavid', u'eithne52', u'elsimilagros', u'emmegrafton', u'emrys_s', u'emyal', u'ezraklein', u'fairy_jpg', u'fixxxer442', u'flancdeporc', u'ford3102', u'forrealrachael', u'fox7austin', u'fresapeter', u'fsseitz', u'gamespot', u'gbendinelli89', u'gimmemusic12', u'goldenislesjenn', u'gr379123', u'guardiannews', u'gyh90009', u'hanjzhang', u'hausencarey', u'hdotpdot', u'ignatovapsm1969', u'ijcfilm', u'iloveesssy', u'imranahmadkh', u'internetalena', u'irwintj108', u'ittekimasu2011', u'jaimesevyn', u'jaketapper', u'janeswitzer', u'jbestvoice', u'jd_Constitution', u'jess4623', u'jimmy00748:', u'jjwalsh', u'jlm_314', u'jmakespolaroids', u'joebuchel', u'johnann', u'johndagys', u'johniadarola', u'johniadarola:', u'johnnyhives', u'johnpavlovitz', u'johnpdalton', u'jouljet', u'judgedredsw', u'judy_ewell', u'justanotheramy', u'justin_kampen', u'justinbieber', u'katepiech', u'katgal2:', u'kausikdatta22', u'kepl17', u'kfluegel362', u'kingvideo123', u'kingx048', u'kompani101', u'kurteichenwald', u'lanesainty', u'lauralino', u'leanleft', u'leolamarchanda', u'liamvhogan', u'lilith2u', u'loadster123', u'lollyish', u'lynxxiv', u'magatrumpagain', u'maria_e_recio', u'mattfleg', u'matthew_merlot', u'mattmfm', u'maucrews', u'maybellinecat', u'mccrackenhouse', u'mdelosrios', u'mediaite', u'megminard', u'meigul', u'mguthriefamily', u'mikerogalski', u'mirandagreer', u'missdanae:', u'mitchellreports', u'mitchellvii', u'mitchlosborne', u'mmurraypolitics', u'mollymoor', u'mormorlady', u'moshik_temkin', u'mrdavidwhitley', u'mrntweet2', u'mwitticg', u'nanoview', u'newyorkmainer', u'nick2228', u'nikkitobias1', u'nina1121', u'normandin_jay', u'nrwgnwd_cheri', u'nytimes', u'nytimesworld', u'nytopinion', u'nytvideo', u'o0xmmx0o', u'oabveneziano', u'obsessivelyMe', u'ohprogressive', u'omar_sheikh', u'omara_marilyn', u'oracleoriole', u'paleofuture', u'pami943', u'patrici78482342', u'pattonoswalt', u'paulmdickey', u'pchan04', u'pearlshomes', u'peoplefarmer', u'perthnow', u'phbarratt', u'phoenix_berbert', u'pkcapitol', u'plzgodletmelive', u'pngpolitics', u'politicalglutto', u'politico', u'potbellycat', u'pourmecoffee', u'pporter100', u'r_quazzy', u'rabbicliff', u'rachelkasumba', u'ramaaramesh', u'ranman09', u'realDonaldTrump', u'realbellasworld', u'realsaramerica', u'renhistorian', u'revpse', u'rharrisonfries', u'riwired', u'rkastrejon', u'robert_swisher', u'rockinhair7', u'roddrury', u'rohitkaran', u'rolandscahill', u'roxaneschmidt', u'sandytweeter', u'sarahjanet', u'sarastogha', u'saschameldrum', u'seankent', u'seanmdav', u'seenseanbean', u'senjohnmcCain', u'seth_youster', u'shani_o', u'sherriereece', u'sjmgator97', u'sladd1010', u'slate', u'sleneghan', u'smilon713', u'sox_morgan', u'soykeniaa', u'springbok60', u'stanwawrinka', u'stephenWalt', u'stephenjus', u'sterow', u'steven94117', u'stevenwinston6', u'suaveadonis', u'sunny_hundal', u'supremo_edomex', u'susan_kay51', u'sustain_science', u'swoozyqyah', u'tahis_gt', u'taylor_kayh', u'tb1960', u'terrymendozer:', u'thatmaxfella', u'thebitchyfairy', u'theeleanordavis', u'thetorse', u'tnacntv', u'tonyposnanski', u'tonyposnanski:', u'transparency_a1', u'treaty_au', u'treksnoopy', u'trfrazi', u'trump2016fan', u'tweetMalena', u'tweetybums', u'uie_khan', u'uluvsaz', u'uniaus', u'upserny', u'usagovgoogles', u'vic_odv', u'viggenja37', u'voxdotcom', u'washingtonpost', u'whoodlelover554', u'widespreadcards', u'wilfardonpenrul:', u'winkie456', u'workmanalice', u'wutif9', u'wwwCISorg', u'zippuli']\n",
      "Data file written to: /home/dwheeler/projects/social/resbas/resbaz/out/twitter_retweet_graph.html.dot\n",
      "Data file written to: /home/dwheeler/projects/social/resbas/resbaz/out/twitter_retweet_graph.html.html\n"
     ]
    }
   ],
   "source": [
    "%run graph.py 'Australia'\n"
   ]
  },
  {
   "cell_type": "code",
   "execution_count": 247,
   "metadata": {
    "collapsed": false,
    "deletable": true,
    "editable": true
   },
   "outputs": [],
   "source": []
  },
  {
   "cell_type": "code",
   "execution_count": null,
   "metadata": {
    "collapsed": false,
    "deletable": true,
    "editable": true
   },
   "outputs": [],
   "source": [
    "\n"
   ]
  },
  {
   "cell_type": "code",
   "execution_count": null,
   "metadata": {
    "collapsed": true,
    "deletable": true,
    "editable": true
   },
   "outputs": [],
   "source": []
  },
  {
   "cell_type": "code",
   "execution_count": 290,
   "metadata": {
    "collapsed": false,
    "deletable": true,
    "editable": true
   },
   "outputs": [],
   "source": []
  },
  {
   "cell_type": "code",
   "execution_count": 307,
   "metadata": {
    "collapsed": false,
    "deletable": true,
    "editable": true
   },
   "outputs": [],
   "source": []
  },
  {
   "cell_type": "code",
   "execution_count": null,
   "metadata": {
    "collapsed": false,
    "deletable": true,
    "editable": true
   },
   "outputs": [],
   "source": []
  },
  {
   "cell_type": "code",
   "execution_count": null,
   "metadata": {
    "collapsed": true,
    "deletable": true,
    "editable": true
   },
   "outputs": [],
   "source": []
  }
 ],
 "metadata": {
  "kernelspec": {
   "display_name": "Python 2",
   "language": "python",
   "name": "python2"
  },
  "language_info": {
   "codemirror_mode": {
    "name": "ipython",
    "version": 2
   },
   "file_extension": ".py",
   "mimetype": "text/x-python",
   "name": "python",
   "nbconvert_exporter": "python",
   "pygments_lexer": "ipython2",
   "version": "2.7.3"
  }
 },
 "nbformat": 4,
 "nbformat_minor": 0
}
